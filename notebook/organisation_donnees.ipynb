{
 "cells": [
  {
   "cell_type": "code",
   "execution_count": 72,
   "metadata": {},
   "outputs": [
    {
     "name": "stdout",
     "output_type": "stream",
     "text": [
      "Documents insérés avec succès : (2394, [])\n",
      "{'Company': 'Younited Credit', 'Customer': 'M françois GUYOT', 'Number_review': '2', 'Language': 'FR', 'Title': 'SUPER SOCIETE DE CREDITS TRES REACTIVE…', 'Date_review': '2023-07-28 06:28:34', 'Reply': 'No Reply', 'Date_reply': '2023-07-28 06:28:34', 'Rating': '5', 'Status': 'Verified', 'Experience': 'SUPER SOCIETE DE CREDITS TRES REACTIVE…SUPER SOCIETE DE CREDITS TRES REACTIVE sans problêmes merci pour votre pret accorde avec le moins d administratif possible', 'Date_experience': '2023-07-20 00:00:00', 'document_id': '0'}\n",
      "{'Company': 'Younited Credit', 'Customer': 'Les parisiens', 'Number_review': '2', 'Language': 'FR', 'Title': 'Simple et efficace !', 'Date_review': '2023-07-28 17:28:34', 'Reply': 'No Reply', 'Date_reply': '2023-07-28 17:28:34', 'Rating': '5', 'Status': 'Verified', 'Experience': 'Simple et efficace !', 'Date_experience': '2023-07-19 00:00:00', 'document_id': '1'}\n",
      "{'Company': 'Younited Credit', 'Customer': 'STEPHANIE RENOUX', 'Number_review': '3', 'Language': 'FR', 'Title': 'Simple rapide et efficace !!', 'Date_review': '2023-07-21 00:00:00', 'Reply': 'Bonjour,Nous vous remercions d’avoir pris le temps de nous laisser un message et sommes ravis de lire que vous êtes pleinement satisfait de votre expérience Younited.Nous vous remercions une nouvelle fois pour votre confiance.Excellente journée,Alexandra', 'Date_reply': '2023-07-24 06:28:42', 'Rating': '5', 'Status': 'Verified', 'Experience': 'Simple rapide et efficace !!', 'Date_experience': '2023-07-11 00:00:00', 'document_id': '2'}\n",
      "{'Company': 'Younited Credit', 'Customer': 'VERONIQUE', 'Number_review': '1', 'Language': 'FR', 'Title': 'TOP ++', 'Date_review': '2023-07-25 06:28:34', 'Reply': 'Bonjour,Nous vous remercions d’avoir pris le temps de nous laisser un message et sommes ravis de lire que vous êtes pleinement satisfait de votre expérience Younited.Nous vous remercions une nouvelle fois pour votre confiance.Excellente journée,Alexandra', 'Date_reply': '2023-07-26 06:28:42', 'Rating': '5', 'Status': 'Verified', 'Experience': \"TOP ++Efficacité et rapidité d'instruction TopJe recommande\", 'Date_experience': '2023-07-19 00:00:00', 'document_id': '3'}\n",
      "{'Company': 'Younited Credit', 'Customer': 'Sall', 'Number_review': '3', 'Language': 'FR', 'Title': 'Procedure top', 'Date_review': '2023-05-30 00:00:00', 'Reply': \"Bonjour,\\xa0Nous vous remercions pour votre commentaire et sommes navrés de lire que vous n'êtes pas pleinement satisfait de votre expérience Younited.Le taux d’intérêt dépend du montant emprunté, de la durée, et de votre situation personnelle que vous avez renseigné lors de la simulation de votre demande crédit.Chez Younited, nous nous efforçons de proposer des financements à des taux compétitifs afin de pouvoir accompagner tous nos clients dans leurs projets.\\xa0Merci d’avoir pris le temps de nous faire un retour sur votre expérience auprès de Younited.Excellente journée,Tracy\", 'Date_reply': '2023-05-31 00:00:00', 'Rating': '4', 'Status': 'Verified', 'Experience': 'Procedure topProcedure top, simple et rapide.Tt est nickel. A part les interets qui sont élevés', 'Date_experience': '2023-05-21 00:00:00', 'document_id': '4'}\n"
     ]
    }
   ],
   "source": [
    "from elasticsearch import Elasticsearch, helpers\n",
    "import csv\n",
    "import json \n",
    "# Connexion au cluster Elasticsearch\n",
    "es = Elasticsearch(hosts=\"http://localhost:9200\")\n",
    "\n",
    "# Nom de l'index\n",
    "index_name = \"reviews\"\n",
    "\n",
    "# Mapping pour l'index \n",
    "mapping = {\n",
    "    \"mappings\": {\n",
    "        \"_meta\": {\n",
    "            \"created_by\": \"file-data-visualizer\"\n",
    "        },\n",
    "        \"properties\": {\n",
    "            \"@timestamp\": {\"type\": \"date\"},\n",
    "            \"Company\": {\"type\": \"keyword\"},\n",
    "            \"Customer\": {\"type\": \"keyword\"},\n",
    "            \"Date_experience\": {\"type\": \"date\", \"format\": \"yyyy-MM-dd HH:mm:ss\"},\n",
    "            \"Date_reply\": {\"type\": \"date\", \"format\": \"yyyy-MM-dd HH:mm:ss\"},\n",
    "            \"Date_review\": {\"type\": \"date\", \"format\": \"yyyy-MM-dd HH:mm:ss\"},\n",
    "            \"Experience\": {\"type\": \"text\"},\n",
    "            \"Language\": {\"type\": \"keyword\"},\n",
    "            \"Number_review\": {\"type\": \"long\"},\n",
    "            \"Rating\": {\"type\": \"long\"},\n",
    "            \"Reply\": {\"type\": \"text\"},\n",
    "            \"Status\": {\"type\": \"keyword\"},\n",
    "            \"Title\": {\"type\": \"text\"},\n",
    "            \"column1\": {\"type\": \"long\"},\n",
    "            \"document_id\": {\"type\": \"keyword\"}  # Ajout d'un champ pour l'ID du document\n",
    "        }\n",
    "    }\n",
    "}\n",
    "\n",
    "# Créer l'index avec le mapping (you can skip this if the index already exists)\n",
    "if not es.indices.exists(index=index_name):\n",
    "    es.indices.create(index=index_name, body=mapping)\n",
    "\n",
    "# Lecture du fichier CSV et correction des champs vides\n",
    "with open(\"../data/avis_clients.csv\", encoding=\"utf-8\") as f:\n",
    "    reader = csv.DictReader(f)\n",
    "    documents = []\n",
    "    for idx, row in enumerate(reader):\n",
    "        if \"\" in row:\n",
    "            row[\"document_id\"] = str(idx)  # Ajout de l'ID du document\n",
    "            for key in list(row.keys()):\n",
    "                if key == \"\":\n",
    "                    row.pop(key)  # Suppression des champs avec des clés vides\n",
    "        documents.append(row)\n",
    "\n",
    "# Insérer les documents en vrac dans Elasticsearch\n",
    "if documents:\n",
    "    try:\n",
    "        response = helpers.bulk(es, documents, index=index_name)\n",
    "        print(\"Documents insérés avec succès :\", response)\n",
    "    except helpers.BulkIndexError as e:\n",
    "        print(\"Erreur lors de l'insertion des documents :\")\n",
    "        for err in e.errors:\n",
    "            print(\"Erreur :\", err)\n",
    "\n",
    "# Vérification des documents insérés\n",
    "result = es.search(index=index_name, size=5)  # Récupère les 5 premiers documents\n",
    "\n",
    "# Afficher les résultats\n",
    "for hit in result[\"hits\"][\"hits\"]:\n",
    "    print(hit[\"_source\"])\n"
   ]
  },
  {
   "cell_type": "code",
   "execution_count": 65,
   "metadata": {},
   "outputs": [],
   "source": [
    "response = es.search(index=\"reviews\")\n",
    "# Récupération du template\n",
    "template = es.indices.get_mapping()\n",
    "\n"
   ]
  },
  {
   "cell_type": "code",
   "execution_count": 66,
   "metadata": {},
   "outputs": [
    {
     "name": "stdout",
     "output_type": "stream",
     "text": [
      "{'Company': 'Younited Credit', 'Customer': 'M françois GUYOT', 'Number_review': '2', 'Language': 'FR', 'Title': 'SUPER SOCIETE DE CREDITS TRES REACTIVE…', 'Date_review': '2023-07-28 06:28:34', 'Reply': 'No Reply', 'Date_reply': '2023-07-28 06:28:34', 'Rating': '5', 'Status': 'Verified', 'Experience': 'SUPER SOCIETE DE CREDITS TRES REACTIVE…SUPER SOCIETE DE CREDITS TRES REACTIVE sans problêmes merci pour votre pret accorde avec le moins d administratif possible', 'Date_experience': '2023-07-20 00:00:00', 'document_id': '0'}\n",
      "{'Company': 'Younited Credit', 'Customer': 'Les parisiens', 'Number_review': '2', 'Language': 'FR', 'Title': 'Simple et efficace !', 'Date_review': '2023-07-28 17:28:34', 'Reply': 'No Reply', 'Date_reply': '2023-07-28 17:28:34', 'Rating': '5', 'Status': 'Verified', 'Experience': 'Simple et efficace !', 'Date_experience': '2023-07-19 00:00:00', 'document_id': '1'}\n",
      "{'Company': 'Younited Credit', 'Customer': 'STEPHANIE RENOUX', 'Number_review': '3', 'Language': 'FR', 'Title': 'Simple rapide et efficace !!', 'Date_review': '2023-07-21 00:00:00', 'Reply': 'Bonjour,Nous vous remercions d’avoir pris le temps de nous laisser un message et sommes ravis de lire que vous êtes pleinement satisfait de votre expérience Younited.Nous vous remercions une nouvelle fois pour votre confiance.Excellente journée,Alexandra', 'Date_reply': '2023-07-24 06:28:42', 'Rating': '5', 'Status': 'Verified', 'Experience': 'Simple rapide et efficace !!', 'Date_experience': '2023-07-11 00:00:00', 'document_id': '2'}\n",
      "{'Company': 'Younited Credit', 'Customer': 'VERONIQUE', 'Number_review': '1', 'Language': 'FR', 'Title': 'TOP ++', 'Date_review': '2023-07-25 06:28:34', 'Reply': 'Bonjour,Nous vous remercions d’avoir pris le temps de nous laisser un message et sommes ravis de lire que vous êtes pleinement satisfait de votre expérience Younited.Nous vous remercions une nouvelle fois pour votre confiance.Excellente journée,Alexandra', 'Date_reply': '2023-07-26 06:28:42', 'Rating': '5', 'Status': 'Verified', 'Experience': \"TOP ++Efficacité et rapidité d'instruction TopJe recommande\", 'Date_experience': '2023-07-19 00:00:00', 'document_id': '3'}\n",
      "{'Company': 'Younited Credit', 'Customer': 'Sall', 'Number_review': '3', 'Language': 'FR', 'Title': 'Procedure top', 'Date_review': '2023-05-30 00:00:00', 'Reply': \"Bonjour,\\xa0Nous vous remercions pour votre commentaire et sommes navrés de lire que vous n'êtes pas pleinement satisfait de votre expérience Younited.Le taux d’intérêt dépend du montant emprunté, de la durée, et de votre situation personnelle que vous avez renseigné lors de la simulation de votre demande crédit.Chez Younited, nous nous efforçons de proposer des financements à des taux compétitifs afin de pouvoir accompagner tous nos clients dans leurs projets.\\xa0Merci d’avoir pris le temps de nous faire un retour sur votre expérience auprès de Younited.Excellente journée,Tracy\", 'Date_reply': '2023-05-31 00:00:00', 'Rating': '4', 'Status': 'Verified', 'Experience': 'Procedure topProcedure top, simple et rapide.Tt est nickel. A part les interets qui sont élevés', 'Date_experience': '2023-05-21 00:00:00', 'document_id': '4'}\n",
      "{'Company': 'Younited Credit', 'Customer': 'Soso ', 'Number_review': '2', 'Language': 'FR', 'Title': 'Younited une procédure simple', 'Date_review': '2023-02-25 00:00:00', 'Reply': 'Bonjour,Nous vous remercions pour ce commentaire\\u202fpositif. En espérant que vous puissiez recommander Younited auprès de votre entourage.Excellente journée,Amori', 'Date_reply': '2023-02-27 00:00:00', 'Rating': '5', 'Status': 'Verified', 'Experience': 'Younited une procédure simpleYounited permet une alternative qui facilite la vie. La procédure est simple et plutôt rapide.', 'Date_experience': '2023-02-19 00:00:00', 'document_id': '5'}\n",
      "{'Company': 'Younited Credit', 'Customer': 'Duval', 'Number_review': '9', 'Language': 'FR', 'Title': 'Rapide efficace simple un pur bonheur…', 'Date_review': '2022-11-28 00:00:00', 'Reply': 'Bonjour,Merci d’avoir pris le temps de nous faire un retour sur votre expérience auprès de Younited, et sommes ravis de lire que celle-ci s’est bien passée.Nous nous efforçons d’offrir à nos clients un crédit aussi juste, simple et rapide que possible et sommes heureux d’avoir pu vous en faire bénéficier.Excellente journée,Audrey', 'Date_reply': '2022-11-30 00:00:00', 'Rating': '5', 'Status': 'Verified', 'Experience': 'Rapide efficace simple un pur bonheur…Rapide efficace simple un pur bonheur les fonds à disposition à la date prévue respect du beau boulot', 'Date_experience': '2022-11-28 00:00:00', 'document_id': '6'}\n",
      "{'Company': 'Younited Credit', 'Customer': 'Michel Lafrechoux', 'Number_review': '5', 'Language': 'FR', 'Title': 'Entire satisfaction', 'Date_review': '2022-11-23 00:00:00', 'Reply': \"Hello,Thank you for taking the time to leave us a message.We invite you to leave a review on your country's Trustpilot pageExcellent day,Audrey\", 'Date_reply': '2022-11-30 00:00:00', 'Rating': '5', 'Status': 'Verified', 'Experience': 'Entire satisfactionYounited credit gave me the possibility to get a loan relatively rapid.All the people via phone were very efficient and disponible.I have a real good feeling from YounitedThanks', 'Date_experience': '2022-11-18 00:00:00', 'document_id': '7'}\n",
      "{'Company': 'Younited Credit', 'Customer': 'Lazarus Jamison', 'Number_review': '1', 'Language': 'MW', 'Title': 'I am yet to confirm the efficiency and…', 'Date_review': '2023-05-06 00:00:00', 'Reply': 'Bonjour,Nous vous remercions d’avoir pris le temps de nous laisser un message et sommes ravis de lire que vous êtes pleinement satisfait de votre expérience Younited.Nous vous remercions une nouvelle fois pour votre confiance.Excellente journée,Alexandra', 'Date_reply': '2023-05-10 00:00:00', 'Rating': '5', 'Status': 'Verified', 'Experience': 'I am yet to confirm the efficiency and…I am yet to confirm the efficiency and the effectiveness of the Younite professionalism in processing loans. i have just applied recently.', 'Date_experience': '2023-04-06 00:00:00', 'document_id': '8'}\n",
      "{'Company': 'Younited Credit', 'Customer': 'Jean-Paul', 'Number_review': '1', 'Language': 'FR', 'Title': 'Tout en simple  et facile', 'Date_review': '2023-07-16 00:00:00', 'Reply': 'Bonjour,Nous vous remercions d’avoir pris le temps de nous laisser un message et sommes ravis de lire que vous êtes pleinement satisfait de votre expérience Younited.Nous vous remercions une nouvelle fois pour votre confiance.Excellente journée,Diane', 'Date_reply': '2023-07-17 00:00:00', 'Rating': '4', 'Status': 'Verified', 'Experience': 'Tout en simple  et facile', 'Date_experience': '2023-07-10 00:00:00', 'document_id': '9'}\n"
     ]
    }
   ],
   "source": [
    "# recherche de tous les documents \n",
    "query = {\n",
    "    \"query\": {\n",
    "        \"match_all\": {}\n",
    "    }\n",
    "}\n",
    "\n",
    "# Exécuter la requête\n",
    "result = es.search(index=\"reviews\", body=query)\n",
    "\n",
    "# Afficher les résultats\n",
    "for hit in result[\"hits\"][\"hits\"]:\n",
    "    print(hit[\"_source\"])\n",
    "\n",
    "    "
   ]
  },
  {
   "cell_type": "code",
   "execution_count": 67,
   "metadata": {},
   "outputs": [
    {
     "name": "stdout",
     "output_type": "stream",
     "text": [
      "{'Company': 'Boursorama Banque', 'Customer': 'FELIX', 'Number_review': '8', 'Language': 'MQ', 'Title': 'EXCELLENT  PRODUIT  FINANCIER', 'Date_review': '2022-11-03 00:00:00', 'Reply': 'No Reply', 'Date_reply': '2022-11-03 00:00:00', 'Rating': '5', 'Status': 'Invited', 'Experience': 'EXCELLENT  PRODUIT  FINANCIER', 'Date_experience': '2022-11-03 00:00:00', 'document_id': '1865'}\n",
      "{'Company': 'Boursorama Banque', 'Customer': 'paulo dos reis', 'Number_review': '2', 'Language': 'FR', 'Title': 'nickel', 'Date_review': '2022-05-11 00:00:00', 'Reply': 'No Reply', 'Date_reply': '2022-05-11 00:00:00', 'Rating': '5', 'Status': 'Invited', 'Experience': 'nickelnickel, super produit', 'Date_experience': '2022-05-11 00:00:00', 'document_id': '2005'}\n",
      "{'Company': 'Boursorama Banque', 'Customer': 'FELIX', 'Number_review': '8', 'Language': 'MQ', 'Title': 'EXCELLENT  PRODUIT  FINANCIER', 'Date_review': '2022-11-03 00:00:00', 'Reply': 'No Reply', 'Date_reply': '2022-11-03 00:00:00', 'Rating': '5', 'Status': 'Invited', 'Experience': 'EXCELLENT  PRODUIT  FINANCIER', 'Date_experience': '2022-11-03 00:00:00', 'document_id': '1865'}\n",
      "{'Company': 'Boursorama Banque', 'Customer': 'paulo dos reis', 'Number_review': '2', 'Language': 'FR', 'Title': 'nickel', 'Date_review': '2022-05-11 00:00:00', 'Reply': 'No Reply', 'Date_reply': '2022-05-11 00:00:00', 'Rating': '5', 'Status': 'Invited', 'Experience': 'nickelnickel, super produit', 'Date_experience': '2022-05-11 00:00:00', 'document_id': '2005'}\n",
      "{'Company': 'Boursorama Banque', 'Customer': 'FELIX', 'Number_review': '8', 'Language': 'MQ', 'Title': 'EXCELLENT  PRODUIT  FINANCIER', 'Date_review': '2022-11-03 00:00:00', 'Reply': 'No Reply', 'Date_reply': '2022-11-03 00:00:00', 'Rating': '5', 'Status': 'Invited', 'Experience': 'EXCELLENT  PRODUIT  FINANCIER', 'Date_experience': '2022-11-03 00:00:00', 'document_id': '1865'}\n",
      "{'Company': 'Boursorama Banque', 'Customer': 'paulo dos reis', 'Number_review': '2', 'Language': 'FR', 'Title': 'nickel', 'Date_review': '2022-05-11 00:00:00', 'Reply': 'No Reply', 'Date_reply': '2022-05-11 00:00:00', 'Rating': '5', 'Status': 'Invited', 'Experience': 'nickelnickel, super produit', 'Date_experience': '2022-05-11 00:00:00', 'document_id': '2005'}\n",
      "{'Company': 'Anytime', 'Customer': 'ANTOINE STANKOVIC', 'Number_review': '1', 'Language': 'FR', 'Title': 'Bon travail', 'Date_review': '2022-11-29 00:00:00', 'Reply': \"Bonjour 😁, Merci d'avoir pris le temps de partager votre avis sur Anytime ! A très vite, Margaux - Anytime \\U0001faf6\", 'Date_reply': '2022-11-30 00:00:00', 'Rating': '5', 'Status': 'Invited', 'Experience': 'Bon travailDu bon travail', 'Date_experience': '2022-11-28 00:00:00', 'document_id': '2170'}\n",
      "{'Company': 'Anytime', 'Customer': 'ANTOINE STANKOVIC', 'Number_review': '1', 'Language': 'FR', 'Title': 'Bon travail', 'Date_review': '2022-11-29 00:00:00', 'Reply': \"Bonjour 😁, Merci d'avoir pris le temps de partager votre avis sur Anytime ! A très vite, Margaux - Anytime \\U0001faf6\", 'Date_reply': '2022-11-30 00:00:00', 'Rating': '5', 'Status': 'Invited', 'Experience': 'Bon travailDu bon travail', 'Date_experience': '2022-11-28 00:00:00', 'document_id': '2170'}\n",
      "{'Company': 'Anytime', 'Customer': 'ANTOINE STANKOVIC', 'Number_review': '1', 'Language': 'FR', 'Title': 'Bon travail', 'Date_review': '2022-11-29 00:00:00', 'Reply': \"Bonjour 😁, Merci d'avoir pris le temps de partager votre avis sur Anytime ! A très vite, Margaux - Anytime \\U0001faf6\", 'Date_reply': '2022-11-30 00:00:00', 'Rating': '5', 'Status': 'Invited', 'Experience': 'Bon travailDu bon travail', 'Date_experience': '2022-11-28 00:00:00', 'document_id': '2170'}\n",
      "{'Company': 'Younited Credit', 'Customer': 'romuald', 'Number_review': '1', 'Language': 'FR', 'Title': 'Bon travail', 'Date_review': '2022-04-16 00:00:00', 'Reply': 'No Reply', 'Date_reply': '2022-04-16 00:00:00', 'Rating': '5', 'Status': 'Verified', 'Experience': 'Bon travailBon travail bon travail', 'Date_experience': '2022-04-16 00:00:00', 'document_id': '174'}\n"
     ]
    }
   ],
   "source": [
    "# recherche de documents contenant \"bon produit\"\n",
    "query = {\n",
    "    \"query\": {\n",
    "        \"match\": {\n",
    "            \"Experience\": \"bon produit\"\n",
    "        }\n",
    "    }\n",
    "}\n",
    "\n",
    "# Exécuter la requête\n",
    "result = es.search(index=\"reviews\", body=query)\n",
    "\n",
    "# Afficher les résultats\n",
    "for hit in result[\"hits\"][\"hits\"]:\n",
    "    print(hit[\"_source\"])\n",
    "    "
   ]
  },
  {
   "cell_type": "code",
   "execution_count": 68,
   "metadata": {},
   "outputs": [
    {
     "name": "stdout",
     "output_type": "stream",
     "text": [
      "{'Company': 'Younited Credit', 'Customer': 'M françois GUYOT', 'Number_review': '2', 'Language': 'FR', 'Title': 'SUPER SOCIETE DE CREDITS TRES REACTIVE…', 'Date_review': '2023-07-28 06:28:34', 'Reply': 'No Reply', 'Date_reply': '2023-07-28 06:28:34', 'Rating': '5', 'Status': 'Verified', 'Experience': 'SUPER SOCIETE DE CREDITS TRES REACTIVE…SUPER SOCIETE DE CREDITS TRES REACTIVE sans problêmes merci pour votre pret accorde avec le moins d administratif possible', 'Date_experience': '2023-07-20 00:00:00', 'document_id': '0'}\n",
      "{'Company': 'Younited Credit', 'Customer': 'Les parisiens', 'Number_review': '2', 'Language': 'FR', 'Title': 'Simple et efficace !', 'Date_review': '2023-07-28 17:28:34', 'Reply': 'No Reply', 'Date_reply': '2023-07-28 17:28:34', 'Rating': '5', 'Status': 'Verified', 'Experience': 'Simple et efficace !', 'Date_experience': '2023-07-19 00:00:00', 'document_id': '1'}\n",
      "{'Company': 'Younited Credit', 'Customer': 'STEPHANIE RENOUX', 'Number_review': '3', 'Language': 'FR', 'Title': 'Simple rapide et efficace !!', 'Date_review': '2023-07-21 00:00:00', 'Reply': 'Bonjour,Nous vous remercions d’avoir pris le temps de nous laisser un message et sommes ravis de lire que vous êtes pleinement satisfait de votre expérience Younited.Nous vous remercions une nouvelle fois pour votre confiance.Excellente journée,Alexandra', 'Date_reply': '2023-07-24 06:28:42', 'Rating': '5', 'Status': 'Verified', 'Experience': 'Simple rapide et efficace !!', 'Date_experience': '2023-07-11 00:00:00', 'document_id': '2'}\n",
      "{'Company': 'Younited Credit', 'Customer': 'VERONIQUE', 'Number_review': '1', 'Language': 'FR', 'Title': 'TOP ++', 'Date_review': '2023-07-25 06:28:34', 'Reply': 'Bonjour,Nous vous remercions d’avoir pris le temps de nous laisser un message et sommes ravis de lire que vous êtes pleinement satisfait de votre expérience Younited.Nous vous remercions une nouvelle fois pour votre confiance.Excellente journée,Alexandra', 'Date_reply': '2023-07-26 06:28:42', 'Rating': '5', 'Status': 'Verified', 'Experience': \"TOP ++Efficacité et rapidité d'instruction TopJe recommande\", 'Date_experience': '2023-07-19 00:00:00', 'document_id': '3'}\n",
      "{'Company': 'Younited Credit', 'Customer': 'Sall', 'Number_review': '3', 'Language': 'FR', 'Title': 'Procedure top', 'Date_review': '2023-05-30 00:00:00', 'Reply': \"Bonjour,\\xa0Nous vous remercions pour votre commentaire et sommes navrés de lire que vous n'êtes pas pleinement satisfait de votre expérience Younited.Le taux d’intérêt dépend du montant emprunté, de la durée, et de votre situation personnelle que vous avez renseigné lors de la simulation de votre demande crédit.Chez Younited, nous nous efforçons de proposer des financements à des taux compétitifs afin de pouvoir accompagner tous nos clients dans leurs projets.\\xa0Merci d’avoir pris le temps de nous faire un retour sur votre expérience auprès de Younited.Excellente journée,Tracy\", 'Date_reply': '2023-05-31 00:00:00', 'Rating': '4', 'Status': 'Verified', 'Experience': 'Procedure topProcedure top, simple et rapide.Tt est nickel. A part les interets qui sont élevés', 'Date_experience': '2023-05-21 00:00:00', 'document_id': '4'}\n",
      "{'Company': 'Younited Credit', 'Customer': 'Soso ', 'Number_review': '2', 'Language': 'FR', 'Title': 'Younited une procédure simple', 'Date_review': '2023-02-25 00:00:00', 'Reply': 'Bonjour,Nous vous remercions pour ce commentaire\\u202fpositif. En espérant que vous puissiez recommander Younited auprès de votre entourage.Excellente journée,Amori', 'Date_reply': '2023-02-27 00:00:00', 'Rating': '5', 'Status': 'Verified', 'Experience': 'Younited une procédure simpleYounited permet une alternative qui facilite la vie. La procédure est simple et plutôt rapide.', 'Date_experience': '2023-02-19 00:00:00', 'document_id': '5'}\n",
      "{'Company': 'Younited Credit', 'Customer': 'Duval', 'Number_review': '9', 'Language': 'FR', 'Title': 'Rapide efficace simple un pur bonheur…', 'Date_review': '2022-11-28 00:00:00', 'Reply': 'Bonjour,Merci d’avoir pris le temps de nous faire un retour sur votre expérience auprès de Younited, et sommes ravis de lire que celle-ci s’est bien passée.Nous nous efforçons d’offrir à nos clients un crédit aussi juste, simple et rapide que possible et sommes heureux d’avoir pu vous en faire bénéficier.Excellente journée,Audrey', 'Date_reply': '2022-11-30 00:00:00', 'Rating': '5', 'Status': 'Verified', 'Experience': 'Rapide efficace simple un pur bonheur…Rapide efficace simple un pur bonheur les fonds à disposition à la date prévue respect du beau boulot', 'Date_experience': '2022-11-28 00:00:00', 'document_id': '6'}\n",
      "{'Company': 'Younited Credit', 'Customer': 'Michel Lafrechoux', 'Number_review': '5', 'Language': 'FR', 'Title': 'Entire satisfaction', 'Date_review': '2022-11-23 00:00:00', 'Reply': \"Hello,Thank you for taking the time to leave us a message.We invite you to leave a review on your country's Trustpilot pageExcellent day,Audrey\", 'Date_reply': '2022-11-30 00:00:00', 'Rating': '5', 'Status': 'Verified', 'Experience': 'Entire satisfactionYounited credit gave me the possibility to get a loan relatively rapid.All the people via phone were very efficient and disponible.I have a real good feeling from YounitedThanks', 'Date_experience': '2022-11-18 00:00:00', 'document_id': '7'}\n",
      "{'Company': 'Younited Credit', 'Customer': 'Lazarus Jamison', 'Number_review': '1', 'Language': 'MW', 'Title': 'I am yet to confirm the efficiency and…', 'Date_review': '2023-05-06 00:00:00', 'Reply': 'Bonjour,Nous vous remercions d’avoir pris le temps de nous laisser un message et sommes ravis de lire que vous êtes pleinement satisfait de votre expérience Younited.Nous vous remercions une nouvelle fois pour votre confiance.Excellente journée,Alexandra', 'Date_reply': '2023-05-10 00:00:00', 'Rating': '5', 'Status': 'Verified', 'Experience': 'I am yet to confirm the efficiency and…I am yet to confirm the efficiency and the effectiveness of the Younite professionalism in processing loans. i have just applied recently.', 'Date_experience': '2023-04-06 00:00:00', 'document_id': '8'}\n",
      "{'Company': 'Younited Credit', 'Customer': 'Jean-Paul', 'Number_review': '1', 'Language': 'FR', 'Title': 'Tout en simple  et facile', 'Date_review': '2023-07-16 00:00:00', 'Reply': 'Bonjour,Nous vous remercions d’avoir pris le temps de nous laisser un message et sommes ravis de lire que vous êtes pleinement satisfait de votre expérience Younited.Nous vous remercions une nouvelle fois pour votre confiance.Excellente journée,Diane', 'Date_reply': '2023-07-17 00:00:00', 'Rating': '4', 'Status': 'Verified', 'Experience': 'Tout en simple  et facile', 'Date_experience': '2023-07-10 00:00:00', 'document_id': '9'}\n"
     ]
    }
   ],
   "source": [
    "# Requête de recherche avec filtre de plage de documents avec 4<rating<5\n",
    "query = {\n",
    "    \"query\": {\n",
    "        \"range\": {\n",
    "            \"Rating\": {\n",
    "                \"gte\": 4,\n",
    "                \"lte\": 5\n",
    "            }\n",
    "        }\n",
    "    }\n",
    "}\n",
    "\n",
    "# Exécuter la requête\n",
    "result = es.search(index=\"reviews\", body=query)\n",
    "\n",
    "# Afficher les résultats\n",
    "for hit in result[\"hits\"][\"hits\"]:\n",
    "    print(hit[\"_source\"])"
   ]
  },
  {
   "cell_type": "code",
   "execution_count": 69,
   "metadata": {},
   "outputs": [
    {
     "name": "stdout",
     "output_type": "stream",
     "text": [
      "{'Company': 'Younited Credit', 'Customer': 'ghislaine', 'Number_review': '2', 'Language': 'FR', 'Title': 'simple et bien', 'Date_review': '2018-04-18 00:00:00', 'Reply': 'No Reply', 'Date_reply': '2018-04-18 00:00:00', 'Rating': '5', 'Status': 'Invited', 'Experience': 'simple et bien', 'Date_experience': '2018-04-18 00:00:00', 'document_id': '527'}\n",
      "{'Company': 'Younited Credit', 'Customer': 'ghislaine', 'Number_review': '2', 'Language': 'FR', 'Title': 'simple et bien', 'Date_review': '2018-04-18 00:00:00', 'Reply': 'No Reply', 'Date_reply': '2018-04-18 00:00:00', 'Rating': '5', 'Status': 'Invited', 'Experience': 'simple et bien', 'Date_experience': '2018-04-18 00:00:00', 'document_id': '527'}\n",
      "{'Company': 'Younited Credit', 'Customer': 'ghislaine', 'Number_review': '2', 'Language': 'FR', 'Title': 'simple et bien', 'Date_review': '2018-04-18 00:00:00', 'Reply': 'No Reply', 'Date_reply': '2018-04-18 00:00:00', 'Rating': '5', 'Status': 'Invited', 'Experience': 'simple et bien', 'Date_experience': '2018-04-18 00:00:00', 'document_id': '527'}\n",
      "{'Company': 'Younited Credit', 'Customer': 'mamimu', 'Number_review': '5', 'Language': 'FR', 'Title': 'tres bien', 'Date_review': '2022-07-17 00:00:00', 'Reply': 'Bonjour**,**Nous vous remercions d’avoir pris le temps de nous laisser un message et sommes ravis de lire que vous être pleinement satisfait de votre expérience Younited.Excellente journée,Diane', 'Date_reply': '2022-07-18 00:00:00', 'Rating': '5', 'Status': 'Verified', 'Experience': 'tres bientres bien, tres simple, tres rapide', 'Date_experience': '2022-07-17 00:00:00', 'document_id': '121'}\n",
      "{'Company': 'Younited Credit', 'Customer': 'mamimu', 'Number_review': '5', 'Language': 'FR', 'Title': 'tres bien', 'Date_review': '2022-07-17 00:00:00', 'Reply': 'Bonjour**,**Nous vous remercions d’avoir pris le temps de nous laisser un message et sommes ravis de lire que vous être pleinement satisfait de votre expérience Younited.Excellente journée,Diane', 'Date_reply': '2022-07-18 00:00:00', 'Rating': '5', 'Status': 'Verified', 'Experience': 'tres bientres bien, tres simple, tres rapide', 'Date_experience': '2022-07-17 00:00:00', 'document_id': '121'}\n",
      "{'Company': 'Younited Credit', 'Customer': 'mamimu', 'Number_review': '5', 'Language': 'FR', 'Title': 'tres bien', 'Date_review': '2022-07-17 00:00:00', 'Reply': 'Bonjour**,**Nous vous remercions d’avoir pris le temps de nous laisser un message et sommes ravis de lire que vous être pleinement satisfait de votre expérience Younited.Excellente journée,Diane', 'Date_reply': '2022-07-18 00:00:00', 'Rating': '5', 'Status': 'Verified', 'Experience': 'tres bientres bien, tres simple, tres rapide', 'Date_experience': '2022-07-17 00:00:00', 'document_id': '121'}\n",
      "{'Company': 'Cofidis', 'Customer': 'GEORGETTE PONCELET', 'Number_review': '1', 'Language': 'FR', 'Title': 'Super bien excellent rapide', 'Date_review': '2020-12-21 00:00:00', 'Reply': \"Merci beaucoup pour votre note et vos commentaires. Je vous souhaite une belle journée  ainsi que de belles fêtes de fin d'année. Laurence de l'équipe Cofidis.\", 'Date_reply': '2020-12-23 00:00:00', 'Rating': '5', 'Status': 'Invited', 'Experience': 'Super bien excellent rapide', 'Date_experience': '2020-12-21 00:00:00', 'document_id': '922'}\n",
      "{'Company': 'Cofidis', 'Customer': 'GEORGETTE PONCELET', 'Number_review': '1', 'Language': 'FR', 'Title': 'Super bien excellent rapide', 'Date_review': '2020-12-21 00:00:00', 'Reply': \"Merci beaucoup pour votre note et vos commentaires. Je vous souhaite une belle journée  ainsi que de belles fêtes de fin d'année. Laurence de l'équipe Cofidis.\", 'Date_reply': '2020-12-23 00:00:00', 'Rating': '5', 'Status': 'Invited', 'Experience': 'Super bien excellent rapide', 'Date_experience': '2020-12-21 00:00:00', 'document_id': '922'}\n",
      "{'Company': 'Cofidis', 'Customer': 'GEORGETTE PONCELET', 'Number_review': '1', 'Language': 'FR', 'Title': 'Super bien excellent rapide', 'Date_review': '2020-12-21 00:00:00', 'Reply': \"Merci beaucoup pour votre note et vos commentaires. Je vous souhaite une belle journée  ainsi que de belles fêtes de fin d'année. Laurence de l'équipe Cofidis.\", 'Date_reply': '2020-12-23 00:00:00', 'Rating': '5', 'Status': 'Invited', 'Experience': 'Super bien excellent rapide', 'Date_experience': '2020-12-21 00:00:00', 'document_id': '922'}\n",
      "{'Company': 'Cofidis', 'Customer': 'Chris Kane ORDER ID', 'Number_review': '2', 'Language': 'GB', 'Title': 'Bien.', 'Date_review': '2021-05-11 00:00:00', 'Reply': \"Bonjour Chris Kane ! Merci pour votre message. Belle fin de journée, Ludivine de l'équipe COFIDIS. \", 'Date_reply': '2021-05-11 00:00:00', 'Rating': '4', 'Status': 'Invited', 'Experience': 'Bien.Bien. Bien. Bien.', 'Date_experience': '2021-05-11 00:00:00', 'document_id': '887'}\n"
     ]
    }
   ],
   "source": [
    "# Requête de recherche avec l'opérateur or \n",
    "query = {\n",
    "    \"query\": {\n",
    "        \"match\": {\n",
    "        \"Experience\": {\n",
    "            \"query\": \"simple rapide effice bien\",\n",
    "            \"operator\": \"or\"\n",
    "            }\n",
    "        }\n",
    "    }\n",
    "}\n",
    "\n",
    "# Exécuter la requête\n",
    "result = es.search(index=\"reviews\", body=query)\n",
    "\n",
    "# Afficher les résultats\n",
    "for hit in result[\"hits\"][\"hits\"]:\n",
    "    print(hit[\"_source\"])"
   ]
  },
  {
   "cell_type": "code",
   "execution_count": 70,
   "metadata": {},
   "outputs": [
    {
     "name": "stdout",
     "output_type": "stream",
     "text": [
      "Nombre total de valeurs de rating: 7182\n",
      "Statistiques de rating:\n",
      "    Minimum: 1.0\n",
      "    Maximum: 5.0\n",
      "    Moyenne: 4.7180451127819545\n",
      "    Somme: 33885.0\n",
      "    Écart-type: 0.7912112398310651\n"
     ]
    }
   ],
   "source": [
    "from elasticsearch import Elasticsearch\n",
    "\n",
    "# Connexion au cluster Elasticsearch\n",
    "es = Elasticsearch(hosts=\"http://localhost:9200\")\n",
    "\n",
    "# Requête d'agrégation pour obtenir des statistiques sur le champ \"Rating\"\n",
    "query = {\n",
    "    \"size\": 0,\n",
    "    \"aggs\": {\n",
    "        \"value_count\": {\n",
    "            \"value_count\": {\n",
    "                \"field\": \"Rating\"\n",
    "            }\n",
    "        },\n",
    "        \"rating_stats\": {\n",
    "            \"stats\": {\n",
    "                \"field\": \"Rating\"\n",
    "            }\n",
    "        },\n",
    "        \"extended_ratings_stats\": {\n",
    "            \"extended_stats\": {\n",
    "                \"field\": \"Rating\"\n",
    "            }\n",
    "        }\n",
    "    }\n",
    "}\n",
    "\n",
    "# Exécuter la requête\n",
    "result = es.search(index=\"reviews\", body=query)\n",
    "\n",
    "# Afficher les résultats de l'agrégation\n",
    "aggregations = result.get(\"aggregations\", {})\n",
    "value_count = aggregations.get(\"value_count\", {})\n",
    "rating_stats = aggregations.get(\"rating_stats\", {})\n",
    "extended_ratings_stats = aggregations.get(\"extended_ratings_stats\", {})\n",
    "\n",
    "print(\"Nombre total de valeurs de rating:\", value_count.get(\"value\", 0))\n",
    "print(\"Statistiques de rating:\")\n",
    "print(\"    Minimum:\", rating_stats.get(\"min\", 0))\n",
    "print(\"    Maximum:\", rating_stats.get(\"max\", 0))\n",
    "print(\"    Moyenne:\", rating_stats.get(\"avg\", 0))\n",
    "print(\"    Somme:\", rating_stats.get(\"sum\", 0))\n",
    "print(\"    Écart-type:\", extended_ratings_stats.get(\"std_deviation\", 0))\n"
   ]
  },
  {
   "cell_type": "code",
   "execution_count": 74,
   "metadata": {},
   "outputs": [
    {
     "name": "stdout",
     "output_type": "stream",
     "text": [
      "Orange Bank : 3048\n",
      "Younited Credit : 2776\n",
      "Boursorama Banque : 1524\n",
      "Anytime : 948\n",
      "Cofidis : 948\n",
      "Floabank : 332\n"
     ]
    }
   ],
   "source": [
    "# Requête de recherche avec agrégation pour le nombre total de docs pour chaque entreprise\n",
    "query = {\n",
    "    \"size\": 0,\n",
    "    \"aggs\": {\n",
    "        \"companies\": {\n",
    "            \"terms\": {\n",
    "                \"field\": \"Company\",\n",
    "                \"size\": 10\n",
    "            }\n",
    "        }\n",
    "    }\n",
    "}\n",
    "\n",
    "# Exécuter la requête\n",
    "result = es.search(index=\"reviews\", body=query)\n",
    "\n",
    "# Afficher les résultats de l'agrégation\n",
    "for bucket in result[\"aggregations\"][\"companies\"][\"buckets\"]:\n",
    "    print(bucket[\"key\"], \":\", bucket[\"doc_count\"])"
   ]
  }
 ],
 "metadata": {
  "kernelspec": {
   "display_name": "Python 3",
   "language": "python",
   "name": "python3"
  },
  "language_info": {
   "codemirror_mode": {
    "name": "ipython",
    "version": 3
   },
   "file_extension": ".py",
   "mimetype": "text/x-python",
   "name": "python",
   "nbconvert_exporter": "python",
   "pygments_lexer": "ipython3",
   "version": "3.9.7"
  },
  "orig_nbformat": 4
 },
 "nbformat": 4,
 "nbformat_minor": 2
}
