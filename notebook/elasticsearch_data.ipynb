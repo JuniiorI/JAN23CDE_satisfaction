{
 "cells": [
  {
   "cell_type": "code",
   "execution_count": 22,
   "metadata": {},
   "outputs": [
    {
     "name": "stderr",
     "output_type": "stream",
     "text": [
      "C:\\Users\\yaya-\\AppData\\Local\\Temp/ipykernel_4128/85386151.py:39: DeprecationWarning: The 'body' parameter is deprecated and will be removed in a future version. Instead use individual parameters.\n",
      "  es.indices.create(index=index_name, body=mapping)\n"
     ]
    },
    {
     "name": "stdout",
     "output_type": "stream",
     "text": [
      "Documents insérés avec succès : (2515, [])\n"
     ]
    }
   ],
   "source": [
    "from elasticsearch import Elasticsearch, helpers\n",
    "import csv\n",
    "import json \n",
    "# Connexion au cluster Elasticsearch\n",
    "es = Elasticsearch(hosts=\"http://localhost:9200\")\n",
    "\n",
    "# Nom de l'index\n",
    "index_name = \"review3\"\n",
    "\n",
    "# Mapping pour l'index \n",
    "mapping = {\n",
    "    \"mappings\": {\n",
    "        \"_meta\": {\n",
    "            \"created_by\": \"yaya\"\n",
    "        },\n",
    "        \"properties\": {\n",
    "            \"@timestamp\": {\"type\": \"date\"},\n",
    "            \"Company\": {\"type\": \"keyword\"},\n",
    "            \"Customer\": {\"type\": \"keyword\"},\n",
    "            \"Date_experience\": {\"type\": \"date\", \"format\": \"yyyy-MM-dd\"},\n",
    "            \"Date_reply\": {\"type\": \"date\", \"format\": \"yyyy-MM-dd\"},\n",
    "            \"Date_review\": {\"type\": \"date\", \"format\": \"yyyy-MM-dd\"},\n",
    "            \"Response_time\":{\"type\": \"long\"},\n",
    "            \"Experience\": {\"type\": \"keyword\"},\n",
    "            \"Language\": {\"type\": \"keyword\"},\n",
    "            \"Number_review\": {\"type\": \"long\"},\n",
    "            \"Rating\": {\"type\": \"long\"},\n",
    "            \"Reply\": {\"type\": \"keyword\"},\n",
    "            \"Status\": {\"type\": \"keyword\"},\n",
    "            \"Title\": {\"type\": \"keyword\"},\n",
    "            \"column1\": {\"type\": \"long\"},\n",
    "            \"document_id\": {\"type\": \"keyword\"}  # Ajout d'un champ pour l'ID du document\n",
    "        }\n",
    "    }\n",
    "}\n",
    "\n",
    "# Créer l'index avec le mapping (you can skip this if the index already exists)\n",
    "if not es.indices.exists(index=index_name):\n",
    "    es.indices.create(index=index_name, body=mapping)\n",
    "\n",
    "# Lecture du fichier CSV et correction des champs vides\n",
    "with open(\"../data/processed/avis_clients.csv\", encoding=\"utf-8\") as f:\n",
    "    reader = csv.DictReader(f)\n",
    "    documents = []\n",
    "    for idx, row in enumerate(reader):\n",
    "        if \"\" in row:\n",
    "            row[\"document_id\"] = str(idx)  # Ajout de l'ID du document\n",
    "            for key in list(row.keys()):\n",
    "                if key == \"\":\n",
    "                    row.pop(key)  # Suppression des champs avec des clés vides\n",
    "        documents.append(row)\n",
    "\n",
    "# Insérer les documents en vrac dans Elasticsearch\n",
    "if documents:\n",
    "    try:\n",
    "        response = helpers.bulk(es, documents, index=index_name)\n",
    "        print(\"Documents insérés avec succès :\", response)\n",
    "    except helpers.BulkIndexError as e:\n",
    "        print(\"Erreur lors de l'insertion des documents :\")\n",
    "        for err in e.errors:\n",
    "            print(\"Erreur :\", err)\n",
    "\n",
    "# Vérification des documents insérés\n",
    "result = es.search(index=index_name, size=5)  # Récupère les 5 premiers documents\n",
    "\n",
    "# Afficher les résultats\n",
    "for hit in result[\"hits\"][\"hits\"]:\n",
    "    print(hit[\"_source\"])\n"
   ]
  },
  {
   "cell_type": "code",
   "execution_count": 23,
   "metadata": {},
   "outputs": [],
   "source": [
    "response = es.search(index=\"review3\")\n",
    "# Récupération du template\n",
    "template = es.indices.get_mapping()"
   ]
  },
  {
   "cell_type": "code",
   "execution_count": 24,
   "metadata": {},
   "outputs": [
    {
     "name": "stderr",
     "output_type": "stream",
     "text": [
      "C:\\Users\\yaya-\\AppData\\Local\\Temp/ipykernel_4128/318030273.py:14: DeprecationWarning: The 'body' parameter is deprecated and will be removed in a future version. Instead use individual parameters.\n",
      "  result = es.search(index=\"review3\", body=query)\n"
     ]
    },
    {
     "name": "stdout",
     "output_type": "stream",
     "text": [
      "{'Company': 'Younited Credit', 'Customer': 'Alexis', 'Number_review': '2', 'Language': 'FR', 'Title': 'Very good service', 'Date_review': '2023-10-23', 'Reply': 'Bonjour,Nous sommes enchantés de vous lire et ravis d’avoir contribué à la réalisation de votre projet**.**Encore bienvenue chez Younited !Excellente journée,Diane', 'Date_reply': '2023-10-24', 'Rating': '5', 'Status': 'Verified', 'Experience': 'Very good service', 'Date_experience': '2023-10-18', 'Response_time': '1', 'document_id': '0'}\n",
      "{'Company': 'Younited Credit', 'Customer': 'Exo Saru', 'Number_review': '3', 'Language': 'FR', 'Title': 'Super simple', 'Date_review': '2023-08-24', 'Reply': 'Bonjour,Nous vous remercions d’avoir pris le temps de nous laisser un message et sommes ravis de lire que vous êtes pleinement satisfait de votre expérience Younited.Nous vous remercions une nouvelle fois pour votre confiance.Excellente journée,Alexandra', 'Date_reply': '2023-08-25', 'Rating': '5', 'Status': 'Verified', 'Experience': 'Super simpleSuper simple, très rapide, interface Web très facile à utiliser.merci younited à de futur projet 👍😊', 'Date_experience': '2023-08-17', 'Response_time': '1', 'document_id': '1'}\n",
      "{'Company': 'Younited Credit', 'Customer': 'Getifra', 'Number_review': '3', 'Language': 'FR', 'Title': 'Younited Credit a démontré son…', 'Date_review': '2023-08-05', 'Reply': 'Bonjour,Nous vous remercions d’avoir pris le temps de nous laisser un message et sommes ravis de lire que vous êtes pleinement satisfait de votre expérience Younited.Nous vous remercions une nouvelle fois pour votre confiance.Excellente journée,Alexandra', 'Date_reply': '2023-08-08', 'Rating': '5', 'Status': 'Verified', 'Experience': 'Younited Credit a démontré son…Younited Credit a démontré son professionnalisme dans le montage de mon dossier de financement. Avec mes sincères remerciements.Cordialement votre.', 'Date_experience': '2023-07-27', 'Response_time': '3', 'document_id': '2'}\n",
      "{'Company': 'Younited Credit', 'Customer': 'Duval', 'Number_review': '9', 'Language': 'FR', 'Title': 'Rapide efficace simple un pur bonheur…', 'Date_review': '2022-11-28', 'Reply': 'Bonjour,Merci d’avoir pris le temps de nous faire un retour sur votre expérience auprès de Younited, et sommes ravis de lire que celle-ci s’est bien passée.Nous nous efforçons d’offrir à nos clients un crédit aussi juste, simple et rapide que possible et sommes heureux d’avoir pu vous en faire bénéficier.Excellente journée,Audrey', 'Date_reply': '2022-11-30', 'Rating': '5', 'Status': 'Verified', 'Experience': 'Rapide efficace simple un pur bonheur…Rapide efficace simple un pur bonheur les fonds à disposition à la date prévue respect du beau boulot', 'Date_experience': '2022-11-28', 'Response_time': '2', 'document_id': '3'}\n",
      "{'Company': 'Younited Credit', 'Customer': 'Soso ', 'Number_review': '2', 'Language': 'FR', 'Title': 'Younited une procédure simple', 'Date_review': '2023-02-25', 'Reply': 'Bonjour,Nous vous remercions pour ce commentaire\\u202fpositif. En espérant que vous puissiez recommander Younited auprès de votre entourage.Excellente journée,Amori', 'Date_reply': '2023-02-27', 'Rating': '5', 'Status': 'Verified', 'Experience': 'Younited une procédure simpleYounited permet une alternative qui facilite la vie. La procédure est simple et plutôt rapide.', 'Date_experience': '2023-02-19', 'Response_time': '2', 'document_id': '4'}\n",
      "{'Company': 'Younited Credit', 'Customer': 'Tom Tom Laveto', 'Number_review': '1', 'Language': 'DE', 'Title': 'Asks too many additional documents.', 'Date_review': '2023-09-11', 'Reply': \"Bonjour,\\xa0Tout d’abord, nous vous remercions d’avoir pris le temps de nous laisser un avis.Concernant le délai de traitement de votre dossier, nous ne disposons pas de vos informations personnelles cependant l'étude de votre dossier à en effet probablement été allongé dû à un document manquant.Nous nous efforçons d’offrir à nos clients un crédit aussi juste, simple et rapide que possible et sommes navrés de ne pas avoir pu vous accompagner dans votre projet.Excellente journée,Diane\", 'Date_reply': '2023-09-12', 'Rating': '1', 'Status': 'Verified', 'Experience': \"Asks too many additional documents.Asks too many additional documents.Although they have the deccision made, still ask you for aditional documents, and you receive email that you are declined in a form of auto reply.Don't waste your time at all!\", 'Date_experience': '2023-09-11', 'Response_time': '1', 'document_id': '5'}\n",
      "{'Company': 'Younited Credit', 'Customer': 'Amine Haddanou', 'Number_review': '2', 'Language': 'FR', 'Title': 'Merci infiniment 🙏', 'Date_review': '2023-10-24', 'Reply': 'Bonjour,Nous vous remercions pour ce commentaire\\u202fpositif. En espérant que vous puissiez recommander Younited auprès de votre entourage.Excellente journée,\\xa0Tracy', 'Date_reply': '2023-10-25', 'Rating': '5', 'Status': 'Verified', 'Experience': 'Merci infiniment 🙏', 'Date_experience': '2023-10-16', 'Response_time': '1', 'document_id': '6'}\n",
      "{'Company': 'Younited Credit', 'Customer': 'Michel Lafrechoux', 'Number_review': '5', 'Language': 'FR', 'Title': 'Entire satisfaction', 'Date_review': '2022-11-23', 'Reply': \"Hello,Thank you for taking the time to leave us a message.We invite you to leave a review on your country's Trustpilot pageExcellent day,Audrey\", 'Date_reply': '2022-11-30', 'Rating': '5', 'Status': 'Verified', 'Experience': 'Entire satisfactionYounited credit gave me the possibility to get a loan relatively rapid.All the people via phone were very efficient and disponible.I have a real good feeling from YounitedThanks', 'Date_experience': '2022-11-18', 'Response_time': '7', 'document_id': '7'}\n",
      "{'Company': 'Younited Credit', 'Customer': 'M françois GUYOT', 'Number_review': '3', 'Language': 'FR', 'Title': 'SUPER SOCIETE DE CREDITS TRES REACTIVE…', 'Date_review': '2023-07-28', 'Reply': 'Bonjour,Merci d’avoir pris le temps de nous faire un retour sur votre expérience auprès de Younited, et sommes ravis de lire que celle-ci s’est bien passée.Nous nous efforçons d’offrir à nos clients un crédit aussi juste, simple et rapide que possible et sommes heureux d’avoir pu vous en faire bénéficier.Excellente journée,Diane', 'Date_reply': '2023-08-01', 'Rating': '5', 'Status': 'Verified', 'Experience': 'SUPER SOCIETE DE CREDITS TRES REACTIVE…SUPER SOCIETE DE CREDITS TRES REACTIVE sans problêmes merci pour votre pret accorde avec le moins d administratif possible', 'Date_experience': '2023-07-20', 'Response_time': '4', 'document_id': '8'}\n",
      "{'Company': 'Younited Credit', 'Customer': 'Lazarus Jamison', 'Number_review': '1', 'Language': 'MW', 'Title': 'I am yet to confirm the efficiency and…', 'Date_review': '2023-05-06', 'Reply': 'Bonjour,Nous vous remercions d’avoir pris le temps de nous laisser un message et sommes ravis de lire que vous êtes pleinement satisfait de votre expérience Younited.Nous vous remercions une nouvelle fois pour votre confiance.Excellente journée,Alexandra', 'Date_reply': '2023-05-10', 'Rating': '5', 'Status': 'Verified', 'Experience': 'I am yet to confirm the efficiency and…I am yet to confirm the efficiency and the effectiveness of the Younite professionalism in processing loans. i have just applied recently.', 'Date_experience': '2023-04-06', 'Response_time': '4', 'document_id': '9'}\n"
     ]
    }
   ],
   "source": [
    "# recherche de tous les documents \n",
    "es = Elasticsearch(hosts=\"http://localhost:9200\")\n",
    "\n",
    "# Index des avis clients\n",
    "index_name = \"review3\"\n",
    "\n",
    "query = {\n",
    "    \"query\": {\n",
    "        \"match_all\": {}\n",
    "    }\n",
    "}\n",
    "\n",
    "# Exécuter la requête\n",
    "result = es.search(index=\"review3\", body=query)\n",
    "\n",
    "# Afficher les résultats\n",
    "for hit in result[\"hits\"][\"hits\"]:\n",
    "    print(hit[\"_source\"])\n"
   ]
  },
  {
   "cell_type": "code",
   "execution_count": 25,
   "metadata": {},
   "outputs": [
    {
     "name": "stderr",
     "output_type": "stream",
     "text": [
      "C:\\Users\\yaya-\\AppData\\Local\\Temp/ipykernel_4128/1065288932.py:38: DeprecationWarning: The 'body' parameter is deprecated and will be removed in a future version. Instead use individual parameters.\n",
      "  result = es.search(index=index_name, body = query)\n"
     ]
    },
    {
     "name": "stdout",
     "output_type": "stream",
     "text": [
      "Mot clé positif : Simple et rapide - Nombre d'occurrences : 52\n",
      "Mot clé positif : Simple et efficace - Nombre d'occurrences : 31\n",
      "Mot clé positif : Excellent service - Nombre d'occurrences : 27\n",
      "Mot clé positif : Très bon service - Nombre d'occurrences : 26\n",
      "Mot clé positif : Rapide et simple - Nombre d'occurrences : 20\n"
     ]
    }
   ],
   "source": [
    "# Requête pour obtenir les 5 mots clés positifs\n",
    "es = Elasticsearch(hosts=\"http://localhost:9200\")\n",
    "\n",
    "# Index des avis clients\n",
    "index_name = \"review3\"\n",
    "\n",
    "query = {\n",
    "    \"query\": {\n",
    "        \"match_all\": {}\n",
    "    },\n",
    "    \"aggs\": {\n",
    "        \"positive_words\": {\n",
    "            \"terms\": {\n",
    "                \"field\": \"Experience\",\n",
    "                \"size\": 5,\n",
    "                \"min_doc_count\": 5\n",
    "            },\n",
    "            \"aggs\": {\n",
    "                \"rating_filter\": {\n",
    "                    \"filter\": {\n",
    "                        \"range\": {\n",
    "                            \"Rating\": {\n",
    "                                \"gte\": 5,\n",
    "                                \"lte\": 5\n",
    "                            }\n",
    "                        }\n",
    "                    }\n",
    "                }\n",
    "            }\n",
    "        }\n",
    "    }\n",
    "}\n",
    "\n",
    "# Exécution de la requête\n",
    "\n",
    "\n",
    "# Exécution de la requête\n",
    "result = es.search(index=index_name, body = query)\n",
    "\n",
    "# Récupération des résultats\n",
    "positive_words = result[\"aggregations\"][\"positive_words\"][\"buckets\"]\n",
    "\n",
    "for positive_word in positive_words:\n",
    "    print(f\"Mot clé positif : {positive_word['key']} - Nombre d'occurrences : {positive_word['doc_count']}\")\n"
   ]
  },
  {
   "cell_type": "code",
   "execution_count": 26,
   "metadata": {},
   "outputs": [
    {
     "name": "stderr",
     "output_type": "stream",
     "text": [
      "C:\\Users\\yaya-\\AppData\\Local\\Temp/ipykernel_4128/1870722822.py:33: DeprecationWarning: The 'body' parameter is deprecated and will be removed in a future version. Instead use individual parameters.\n",
      "  result = es.search(index=index_name, body=query)\n"
     ]
    },
    {
     "name": "stdout",
     "output_type": "stream",
     "text": [
      "Mot clé négatif : Simple et rapide - Nombre d'occurrences : 57\n",
      "Mot clé négatif : Simple - Nombre d'occurrences : 49\n",
      "Mot clé négatif : Excellent - Nombre d'occurrences : 39\n",
      "Mot clé négatif : Simple et efficace - Nombre d'occurrences : 39\n",
      "Mot clé négatif : Rapide - Nombre d'occurrences : 37\n",
      "Mot clé négatif : Super - Nombre d'occurrences : 35\n",
      "Mot clé négatif : Excellent service - Nombre d'occurrences : 29\n",
      "Mot clé négatif : Très bon service - Nombre d'occurrences : 27\n",
      "Mot clé négatif : Parfait - Nombre d'occurrences : 24\n",
      "Mot clé négatif : Rapide et simple - Nombre d'occurrences : 24\n"
     ]
    }
   ],
   "source": [
    "es = Elasticsearch(hosts=\"http://localhost:9200\")\n",
    "\n",
    "# Index des avis clients\n",
    "index_name = \"review3\"\n",
    "\n",
    "query = {\n",
    "    \"query\": {\n",
    "        \"match_all\": {}\n",
    "    },\n",
    "    \"aggs\": {\n",
    "        \"negative_words\": {\n",
    "            \"terms\": {\n",
    "                \"field\": \"Title\",\n",
    "                \"size\": 10,\n",
    "                \"min_doc_count\": 5\n",
    "            },\n",
    "            \"aggs\": {\n",
    "                \"rating_filter\": {\n",
    "                    \"filter\": {\n",
    "                        \"range\": {\n",
    "                            \"Rating\": {\n",
    "                                \"gte\": 1,\n",
    "                                \"lte\": 1\n",
    "                            }\n",
    "                        }\n",
    "                    }\n",
    "                }\n",
    "            }\n",
    "        }\n",
    "    }\n",
    "}\n",
    "# Exécution de la requête\n",
    "result = es.search(index=index_name, body=query)\n",
    "\n",
    "# Récupération des résultats\n",
    "negative_words = result[\"aggregations\"][\"negative_words\"][\"buckets\"]\n",
    "\n",
    "# Affichage des résultats\n",
    "for negative_word in negative_words:\n",
    "    print(f\"Mot clé négatif : {negative_word['key']} - Nombre d'occurrences : {negative_word['doc_count']}\")"
   ]
  },
  {
   "cell_type": "markdown",
   "metadata": {},
   "source": [
    "# Importer Elasticsearch-py pour la gestion de l'API Elasticsearch\n",
    "from elasticsearch import Elasticsearch\n",
    "\n",
    "# Se connecter à Elasticsearch\n",
    "es = Elasticsearch(hosts=\"http://localhost:9200\")\n",
    "\n",
    "# Définir un normalizer de minuscules\n",
    "lowercase_normalizer = {\n",
    "    \"settings\": {\n",
    "        \"analysis\": {\n",
    "            \"normalizer\": {\n",
    "                \"lowercase_normalizer\": {\n",
    "                    \"type\": \"custom\",\n",
    "                    \"filter\": [\"lowercase\"]\n",
    "                }\n",
    "            }\n",
    "        }\n",
    "    }\n",
    "}\n",
    "\n",
    "# Appliquer le normalizer de minuscules à un champ\n",
    "mapping = {\n",
    "    \"mappings\": {\n",
    "        \"properties\": {\n",
    "            \"Experience\": {\n",
    "                \"type\": \"text\",\n",
    "                \"normalizer\": \"lowercase_normalizer\"\n",
    "            }\n",
    "        }\n",
    "    }\n",
    "}\n",
    "\n",
    "# Créer l'index avec le mapping et le normalizer\n",
    "es.indices.create(index=\"index_name\", body={\"settings\": lowercase_normalizer})\n",
    "es.indices.put_mapping(index=\"index_name\", body=mapping)\n"
   ]
  },
  {
   "cell_type": "markdown",
   "metadata": {},
   "source": [
    "query = {\n",
    "    \"query\": {\n",
    "        \"match_all\": {}\n",
    "    },\n",
    "    \"aggs\": {\n",
    "        \"mots_negatifs\": {\n",
    "            \"terms\": {\n",
    "                \"field\": \"Experience\",\n",
    "                \"size\": 10000,\n",
    "                \"include\": [\n",
    "                    \"mauvais\",\n",
    "                    \"terrible\",\n",
    "                    \"déçu\",\n",
    "                    \"pauvre\",\n",
    "                    \"insatisfait\",\n",
    "                    \"bad\",\n",
    "                    \"avoid\",\n",
    "                    \"arnaque\",\n",
    "                    \"disaster\",\n",
    "                    \"worse\",\n",
    "                    \"incompétent\"\n",
    "                ],\n",
    "                \"analyzer\": \"lowercase_analyzer\"\n",
    "            }\n",
    "        }\n",
    "    }\n",
    "}\n",
    "\n",
    "result = es.search(index=index_name, body=query)\n",
    "\n",
    "# Récupération des résultats\n",
    "mots_negatifs = result[\"aggregations\"][\"mots_negatifs\"][\"buckets\"]\n",
    "\n",
    "# Affichage des résultats\n",
    "for mot_negatif in mots_negatifs:\n",
    "    print(f\"Mot négatif : {mot_negatif['key']} - Nombre d'occurrences : {mot_negatif['doc_count']}\")\n"
   ]
  },
  {
   "cell_type": "code",
   "execution_count": 27,
   "metadata": {},
   "outputs": [
    {
     "name": "stderr",
     "output_type": "stream",
     "text": [
      "C:\\Users\\yaya-\\AppData\\Local\\Temp/ipykernel_4128/2884975705.py:29: DeprecationWarning: The 'body' parameter is deprecated and will be removed in a future version. Instead use individual parameters.\n",
      "  result = es.search(index=index_name, body=query)\n"
     ]
    },
    {
     "name": "stdout",
     "output_type": "stream",
     "text": [
      "Nombre total de valeurs de rating: 2515\n",
      "Statistiques de rating:\n",
      "    Minimum: 1.0\n",
      "    Maximum: 5.0\n",
      "    Moyenne: 4.6870775347912526\n",
      "    Somme: 11788.0\n",
      "    Écart-type: 0.8582959723170738\n"
     ]
    }
   ],
   "source": [
    "es = Elasticsearch(hosts=\"http://localhost:9200\")\n",
    "\n",
    "# Index des avis clients\n",
    "index_name = \"review3\"\n",
    "\n",
    "# Requête d'agrégation pour obtenir des statistiques sur le champ \"Rating\"\n",
    "query = {\n",
    "    \"size\": 0,\n",
    "    \"aggs\": {\n",
    "        \"value_count\": {\n",
    "            \"value_count\": {\n",
    "                \"field\": \"Rating\"\n",
    "            }\n",
    "        },\n",
    "        \"rating_stats\": {\n",
    "            \"stats\": {\n",
    "                \"field\": \"Rating\"\n",
    "            }\n",
    "        },\n",
    "        \"extended_ratings_stats\": {\n",
    "            \"extended_stats\": {\n",
    "                \"field\": \"Rating\"\n",
    "            }\n",
    "        }\n",
    "    }\n",
    "}\n",
    "\n",
    "# Exécuter la requête\n",
    "result = es.search(index=index_name, body=query)\n",
    "\n",
    "# Afficher les résultats de l'agrégation\n",
    "aggregations = result.get(\"aggregations\", {})\n",
    "value_count = aggregations.get(\"value_count\", {})\n",
    "rating_stats = aggregations.get(\"rating_stats\", {})\n",
    "extended_ratings_stats = aggregations.get(\"extended_ratings_stats\", {})\n",
    "\n",
    "print(\"Nombre total de valeurs de rating:\", value_count.get(\"value\", 0))\n",
    "print(\"Statistiques de rating:\")\n",
    "print(\"    Minimum:\", rating_stats.get(\"min\", 0))\n",
    "print(\"    Maximum:\", rating_stats.get(\"max\", 0))\n",
    "print(\"    Moyenne:\", rating_stats.get(\"avg\", 0))\n",
    "print(\"    Somme:\", rating_stats.get(\"sum\", 0))\n",
    "print(\"    Écart-type:\", extended_ratings_stats.get(\"std_deviation\", 0))\n"
   ]
  },
  {
   "cell_type": "code",
   "execution_count": 28,
   "metadata": {},
   "outputs": [
    {
     "name": "stderr",
     "output_type": "stream",
     "text": [
      "C:\\Users\\yaya-\\AppData\\Local\\Temp/ipykernel_4128/2648896791.py:8: DeprecationWarning: The 'body' parameter is deprecated and will be removed in a future version. Instead use individual parameters.\n",
      "  result = es.search(index=index_name,\n"
     ]
    },
    {
     "name": "stdout",
     "output_type": "stream",
     "text": [
      "Entreprise : Younited Credit, Nombre de commentaires négatifs : 7\n",
      "Entreprise : Cofidis, Nombre de commentaires négatifs : 3\n"
     ]
    }
   ],
   "source": [
    "# Liste des entreprises avec le plus de commentaires négatifs\n",
    "es = Elasticsearch(hosts=\"http://localhost:9200\")\n",
    "\n",
    "# Index des avis clients\n",
    "index_name = \"review3\"\n",
    "\n",
    "# Exécution de la requête\n",
    "result = es.search(index=index_name, \n",
    "body={\n",
    "    \"query\": {\n",
    "        \"match_all\": {}\n",
    "    },\n",
    "    \"sort\": [\n",
    "        {\n",
    "            \"Rating\": {\n",
    "                \"order\": \"asc\"  # Tri ascendant (du plus bas au plus haut)\n",
    "            }\n",
    "        }\n",
    "    ]\n",
    "}\n",
    ")\n",
    "# Exécution de la requête pour récupérer les commentaires triés par note\n",
    "#result = es.search(index=index_name, body=query)\n",
    "\n",
    "# Analyse des commentaires triés pour identifier les entreprises avec le plus de commentaires négatifs\n",
    "from collections import Counter\n",
    "\n",
    "negative_reviews = []\n",
    "for hit in result[\"hits\"][\"hits\"]:\n",
    "    rating = int(hit[\"_source\"][\"Rating\"])  # Convertir la note en entier\n",
    "    if rating < 3:  # Supposons que 1 à 2 sont considérés comme des notes négatives\n",
    "        negative_reviews.append(hit[\"_source\"][\"Company\"])\n",
    "\n",
    "# Utilisation de Counter pour compter le nombre de commentaires négatifs par entreprise\n",
    "company_count = Counter(negative_reviews)\n",
    "\n",
    "# Triez les entreprises par le nombre de commentaires négatifs (du plus au moins)\n",
    "sorted_companies = sorted(company_count.items(), key=lambda x: x[1], reverse=True)\n",
    "\n",
    "# Afficher les entreprises avec le plus de commentaires négatifs\n",
    "for company, count in sorted_companies[:6]:  # Affiche les 5 premières entreprises avec le plus de commentaires négatifs\n",
    "    print(f\"Entreprise : {company}, Nombre de commentaires négatifs : {count}\")\n"
   ]
  },
  {
   "cell_type": "code",
   "execution_count": 29,
   "metadata": {},
   "outputs": [
    {
     "name": "stderr",
     "output_type": "stream",
     "text": [
      "C:\\Users\\yaya-\\AppData\\Local\\Temp/ipykernel_4128/2866378900.py:7: DeprecationWarning: The 'body' parameter is deprecated and will be removed in a future version. Instead use individual parameters.\n",
      "  result = es.search(index=index_name,\n"
     ]
    },
    {
     "name": "stdout",
     "output_type": "stream",
     "text": [
      "Entreprise : BoursoBank - Nombre de No Reply : 429\n",
      "Entreprise : Younited Credit - Nombre de No Reply : 414\n",
      "Entreprise : Orange Bank - Nombre de No Reply : 87\n",
      "Entreprise : Floabank - Nombre de No Reply : 41\n",
      "Entreprise : Anytime - Nombre de No Reply : 25\n",
      "Entreprise : Cofidis - Nombre de No Reply : 1\n"
     ]
    }
   ],
   "source": [
    "es = Elasticsearch(hosts=\"http://localhost:9200\")\n",
    "\n",
    "# Index des avis clients\n",
    "index_name = \"review3\"\n",
    "\n",
    "# Exécution de la requête\n",
    "result = es.search(index=index_name, \n",
    "body={\n",
    "    \"query\": {\n",
    "        \"match\": {\n",
    "            \"Reply\": {\n",
    "                \"query\": \"No Reply\"\n",
    "            }\n",
    "        }\n",
    "    },\n",
    "    \"aggs\": {\n",
    "        \"companies\": {\n",
    "            \"terms\": {\n",
    "                \"field\": \"Company\",\n",
    "                \"size\": 10\n",
    "            }\n",
    "        }\n",
    "    }\n",
    "})\n",
    "\n",
    "# Récupération des résultats\n",
    "companies = result[\"aggregations\"][\"companies\"][\"buckets\"]\n",
    "\n",
    "# Affichage des résultats\n",
    "for company in companies:\n",
    "    print(f\"Entreprise : {company['key']} - Nombre de No Reply : {company['doc_count']}\")"
   ]
  },
  {
   "cell_type": "code",
   "execution_count": 30,
   "metadata": {},
   "outputs": [
    {
     "name": "stdout",
     "output_type": "stream",
     "text": [
      "Entreprise : Floabank - Note moyenne : 4.49\n",
      "Entreprise : Orange Bank - Note moyenne : 4.6\n",
      "Entreprise : Anytime - Note moyenne : 4.63\n",
      "Entreprise : BoursoBank - Note moyenne : 4.64\n",
      "Entreprise : Cofidis - Note moyenne : 4.8\n",
      "Entreprise : Younited Credit - Note moyenne : 4.81\n"
     ]
    },
    {
     "name": "stderr",
     "output_type": "stream",
     "text": [
      "C:\\Users\\yaya-\\AppData\\Local\\Temp/ipykernel_4128/4117333319.py:19: DeprecationWarning: The 'body' parameter is deprecated and will be removed in a future version. Instead use individual parameters.\n",
      "  result = es.search(index=index_name, body=query)\n"
     ]
    }
   ],
   "source": [
    "# Exécution de la requête pour obtenir le classement des entreprises selon leur note moyenne\n",
    "query = {\n",
    "    \"aggs\": {\n",
    "        \"companies\": {\n",
    "            \"terms\": {\n",
    "                \"field\": \"Company\"\n",
    "            },\n",
    "            \"aggs\": {\n",
    "                \"average_rating\": {\n",
    "                    \"avg\": {\n",
    "                        \"field\": \"Rating\"\n",
    "                    }\n",
    "                }\n",
    "            }\n",
    "        }\n",
    "    }\n",
    "}\n",
    "\n",
    "result = es.search(index=index_name, body=query)\n",
    "\n",
    "# Récupération des résultats\n",
    "companies = result[\"aggregations\"][\"companies\"][\"buckets\"]\n",
    "\n",
    "# Tri des entreprises par leur note moyenne\n",
    "companies.sort(key=lambda company: company[\"average_rating\"][\"value\"], reverse=False)\n",
    "\n",
    "# Affichage des résultats\n",
    "for company in companies:\n",
    "    average_ratings = round(company['average_rating']['value'], 2)\n",
    "    print(f\"Entreprise : {company['key']} - Note moyenne : {average_ratings}\")\n"
   ]
  },
  {
   "cell_type": "code",
   "execution_count": 31,
   "metadata": {},
   "outputs": [
    {
     "name": "stdout",
     "output_type": "stream",
     "text": [
      "Status : Invited - Nombre de commentateurs : 1533\n",
      "Status : Verified - Nombre de commentateurs : 545\n",
      "Status : Merged - Nombre de commentateurs : 417\n",
      "Status : Redirected - Nombre de commentateurs : 20\n"
     ]
    },
    {
     "name": "stderr",
     "output_type": "stream",
     "text": [
      "C:\\Users\\yaya-\\AppData\\Local\\Temp/ipykernel_4128/3781268496.py:12: DeprecationWarning: The 'body' parameter is deprecated and will be removed in a future version. Instead use individual parameters.\n",
      "  result = es.search(index=index_name, body=query)\n"
     ]
    }
   ],
   "source": [
    "# Exécution de la requête pour obtenir le groupe selon leur statut\n",
    "query = {\n",
    "    \"aggs\": {\n",
    "        \"statuses\": {\n",
    "            \"terms\": {\n",
    "                \"field\": \"Status\"\n",
    "            }\n",
    "        }\n",
    "    }\n",
    "}\n",
    "\n",
    "result = es.search(index=index_name, body=query)\n",
    "\n",
    "# Récupération des résultats\n",
    "statuses = result[\"aggregations\"][\"statuses\"][\"buckets\"]\n",
    "\n",
    "# Affichage des résultats\n",
    "for status in statuses:\n",
    "    print(f\"Status : {status['key']} - Nombre de commentateurs : {status['doc_count']}\")\n"
   ]
  },
  {
   "cell_type": "code",
   "execution_count": 32,
   "metadata": {},
   "outputs": [
    {
     "name": "stdout",
     "output_type": "stream",
     "text": [
      "Entreprise : BoursoBank - Nombre de No Reply : 429 - Taux de No Reply : 43.03%\n",
      "Entreprise : Younited Credit - Nombre de No Reply : 414 - Taux de No Reply : 41.52%\n",
      "Entreprise : Orange Bank - Nombre de No Reply : 87 - Taux de No Reply : 8.73%\n",
      "Entreprise : Floabank - Nombre de No Reply : 41 - Taux de No Reply : 4.11%\n",
      "Entreprise : Anytime - Nombre de No Reply : 25 - Taux de No Reply : 2.51%\n",
      "Entreprise : Cofidis - Nombre de No Reply : 1 - Taux de No Reply : 0.10%\n"
     ]
    },
    {
     "name": "stderr",
     "output_type": "stream",
     "text": [
      "C:\\Users\\yaya-\\AppData\\Local\\Temp/ipykernel_4128/3237135795.py:29: DeprecationWarning: The 'body' parameter is deprecated and will be removed in a future version. Instead use individual parameters.\n",
      "  result = es.search(index=index_name, body=query)\n"
     ]
    }
   ],
   "source": [
    "# Exécution de la requête\n",
    "query = {\n",
    "    \"query\": {\n",
    "        \"match\": {\n",
    "            \"Reply\": \"No Reply\"\n",
    "        }\n",
    "    },\n",
    "    \"aggs\": {\n",
    "        \"total_no_reply\": {\n",
    "            \"value_count\": {\n",
    "                \"field\": \"Reply\"\n",
    "            }\n",
    "        },\n",
    "        \"companies\": {\n",
    "            \"terms\": {\n",
    "                \"field\": \"Company\"\n",
    "            },\n",
    "            \"aggs\": {\n",
    "                \"number_of_no_reply\": {\n",
    "                    \"value_count\": {\n",
    "                        \"field\": \"Reply\"\n",
    "                    }\n",
    "                }\n",
    "            }\n",
    "        }\n",
    "    }\n",
    "}\n",
    "\n",
    "result = es.search(index=index_name, body=query)\n",
    "# Récupération des résultats\n",
    "total_no_reply = result[\"aggregations\"][\"total_no_reply\"][\"value\"]\n",
    "companies = result[\"aggregations\"][\"companies\"][\"buckets\"]\n",
    "\n",
    "# Affichage des résultats\n",
    "for company in companies:\n",
    "    number_of_no_reply = company[\"number_of_no_reply\"][\"value\"]\n",
    "    percentage = (number_of_no_reply / total_no_reply) * 100\n",
    "    print(f\"Entreprise : {company['key']} - Nombre de No Reply : {number_of_no_reply} - Taux de No Reply : {percentage:.2f}%\")\n"
   ]
  },
  {
   "cell_type": "code",
   "execution_count": 34,
   "metadata": {},
   "outputs": [
    {
     "name": "stdout",
     "output_type": "stream",
     "text": [
      "Entreprise : BoursoBank - Délai de réponse moyen : 0.0\n",
      "Entreprise : Floabank - Délai de réponse moyen : 0.62\n",
      "Entreprise : Younited Credit - Délai de réponse moyen : 14.38\n",
      "Entreprise : Cofidis - Délai de réponse moyen : 15.25\n",
      "Entreprise : Orange Bank - Délai de réponse moyen : 26.1\n",
      "Entreprise : Anytime - Délai de réponse moyen : 34.98\n"
     ]
    },
    {
     "name": "stderr",
     "output_type": "stream",
     "text": [
      "C:\\Users\\yaya-\\AppData\\Local\\Temp/ipykernel_4128/2153710635.py:19: DeprecationWarning: The 'body' parameter is deprecated and will be removed in a future version. Instead use individual parameters.\n",
      "  result = es.search(index=index_name, body=query)\n"
     ]
    }
   ],
   "source": [
    "# Exécution de la requête pour obtenir le classement des entreprises selon leur note moyenne\n",
    "query = {\n",
    "    \"aggs\": {\n",
    "        \"companies\": {\n",
    "            \"terms\": {\n",
    "                \"field\": \"Company\"\n",
    "            },\n",
    "            \"aggs\": {\n",
    "                \"average_day\": {\n",
    "                    \"avg\": {\n",
    "                        \"field\": \"Response_time\"\n",
    "                    }\n",
    "                }\n",
    "            }\n",
    "        }\n",
    "    }\n",
    "}\n",
    "\n",
    "result = es.search(index=index_name, body=query)\n",
    "\n",
    "# Récupération des résultats\n",
    "companies = result[\"aggregations\"][\"companies\"][\"buckets\"]\n",
    "\n",
    "# Tri des entreprises par leur note moyenne\n",
    "companies.sort(key=lambda company: company[\"average_day\"][\"value\"], reverse=False)\n",
    "\n",
    "# Affichage des résultats\n",
    "for company in companies:\n",
    "    average_days = round(company['average_day']['value'], 2)\n",
    "    print(f\"Entreprise : {company['key']} - Délai de réponse moyen : {average_days}\")\n"
   ]
  }
 ],
 "metadata": {
  "kernelspec": {
   "display_name": "Python 3",
   "language": "python",
   "name": "python3"
  },
  "language_info": {
   "codemirror_mode": {
    "name": "ipython",
    "version": 3
   },
   "file_extension": ".py",
   "mimetype": "text/x-python",
   "name": "python",
   "nbconvert_exporter": "python",
   "pygments_lexer": "ipython3",
   "version": "3.9.7"
  }
 },
 "nbformat": 4,
 "nbformat_minor": 2
}
