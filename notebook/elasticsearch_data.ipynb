{
 "cells": [
  {
   "cell_type": "code",
   "execution_count": 64,
   "metadata": {},
   "outputs": [
    {
     "name": "stdout",
     "output_type": "stream",
     "text": [
      "Documents insérés avec succès : (2394, [])\n",
      "{'Company': 'Younited Credit', 'Customer': 'M françois GUYOT', 'Number_review': '2', 'Language': 'FR', 'Title': 'SUPER SOCIETE DE CREDITS TRES REACTIVE…', 'Date_review': '2023-07-28 06:28:34', 'Reply': 'No Reply', 'Date_reply': '2023-07-28 06:28:34', 'Rating': '5', 'Status': 'Verified', 'Experience': 'SUPER SOCIETE DE CREDITS TRES REACTIVE…SUPER SOCIETE DE CREDITS TRES REACTIVE sans problêmes merci pour votre pret accorde avec le moins d administratif possible', 'Date_experience': '2023-07-20 00:00:00', 'document_id': '0'}\n",
      "{'Company': 'Younited Credit', 'Customer': 'Les parisiens', 'Number_review': '2', 'Language': 'FR', 'Title': 'Simple et efficace !', 'Date_review': '2023-07-28 17:28:34', 'Reply': 'No Reply', 'Date_reply': '2023-07-28 17:28:34', 'Rating': '5', 'Status': 'Verified', 'Experience': 'Simple et efficace !', 'Date_experience': '2023-07-19 00:00:00', 'document_id': '1'}\n",
      "{'Company': 'Younited Credit', 'Customer': 'STEPHANIE RENOUX', 'Number_review': '3', 'Language': 'FR', 'Title': 'Simple rapide et efficace !!', 'Date_review': '2023-07-21 00:00:00', 'Reply': 'Bonjour,Nous vous remercions d’avoir pris le temps de nous laisser un message et sommes ravis de lire que vous êtes pleinement satisfait de votre expérience Younited.Nous vous remercions une nouvelle fois pour votre confiance.Excellente journée,Alexandra', 'Date_reply': '2023-07-24 06:28:42', 'Rating': '5', 'Status': 'Verified', 'Experience': 'Simple rapide et efficace !!', 'Date_experience': '2023-07-11 00:00:00', 'document_id': '2'}\n",
      "{'Company': 'Younited Credit', 'Customer': 'VERONIQUE', 'Number_review': '1', 'Language': 'FR', 'Title': 'TOP ++', 'Date_review': '2023-07-25 06:28:34', 'Reply': 'Bonjour,Nous vous remercions d’avoir pris le temps de nous laisser un message et sommes ravis de lire que vous êtes pleinement satisfait de votre expérience Younited.Nous vous remercions une nouvelle fois pour votre confiance.Excellente journée,Alexandra', 'Date_reply': '2023-07-26 06:28:42', 'Rating': '5', 'Status': 'Verified', 'Experience': \"TOP ++Efficacité et rapidité d'instruction TopJe recommande\", 'Date_experience': '2023-07-19 00:00:00', 'document_id': '3'}\n",
      "{'Company': 'Younited Credit', 'Customer': 'Sall', 'Number_review': '3', 'Language': 'FR', 'Title': 'Procedure top', 'Date_review': '2023-05-30 00:00:00', 'Reply': \"Bonjour,\\xa0Nous vous remercions pour votre commentaire et sommes navrés de lire que vous n'êtes pas pleinement satisfait de votre expérience Younited.Le taux d’intérêt dépend du montant emprunté, de la durée, et de votre situation personnelle que vous avez renseigné lors de la simulation de votre demande crédit.Chez Younited, nous nous efforçons de proposer des financements à des taux compétitifs afin de pouvoir accompagner tous nos clients dans leurs projets.\\xa0Merci d’avoir pris le temps de nous faire un retour sur votre expérience auprès de Younited.Excellente journée,Tracy\", 'Date_reply': '2023-05-31 00:00:00', 'Rating': '4', 'Status': 'Verified', 'Experience': 'Procedure topProcedure top, simple et rapide.Tt est nickel. A part les interets qui sont élevés', 'Date_experience': '2023-05-21 00:00:00', 'document_id': '4'}\n"
     ]
    }
   ],
   "source": [
    "from elasticsearch import Elasticsearch, helpers\n",
    "import csv\n",
    "import json \n",
    "# Connexion au cluster Elasticsearch\n",
    "es = Elasticsearch(hosts=\"http://localhost:9200\")\n",
    "\n",
    "# Nom de l'index\n",
    "index_name = \"review3\"\n",
    "\n",
    "# Mapping pour l'index \n",
    "mapping = {\n",
    "    \"mappings\": {\n",
    "        \"_meta\": {\n",
    "            \"created_by\": \"yaya\"\n",
    "        },\n",
    "        \"properties\": {\n",
    "            \"@timestamp\": {\"type\": \"date\"},\n",
    "            \"Company\": {\"type\": \"keyword\"},\n",
    "            \"Customer\": {\"type\": \"keyword\"},\n",
    "            \"Date_experience\": {\"type\": \"date\", \"format\": \"yyyy-MM-dd HH:mm:ss\"},\n",
    "            \"Date_reply\": {\"type\": \"date\", \"format\": \"yyyy-MM-dd HH:mm:ss\"},\n",
    "            \"Date_review\": {\"type\": \"date\", \"format\": \"yyyy-MM-dd HH:mm:ss\"},\n",
    "            \"Experience\": {\"type\": \"keyword\"},\n",
    "            \"Language\": {\"type\": \"keyword\"},\n",
    "            \"Number_review\": {\"type\": \"long\"},\n",
    "            \"Rating\": {\"type\": \"long\"},\n",
    "            \"Reply\": {\"type\": \"keyword\"},\n",
    "            \"Status\": {\"type\": \"keyword\"},\n",
    "            \"Title\": {\"type\": \"keyword\"},\n",
    "            \"column1\": {\"type\": \"long\"},\n",
    "            \"document_id\": {\"type\": \"keyword\"}  # Ajout d'un champ pour l'ID du document\n",
    "        }\n",
    "    }\n",
    "}\n",
    "\n",
    "# Créer l'index avec le mapping (you can skip this if the index already exists)\n",
    "if not es.indices.exists(index=index_name):\n",
    "    es.indices.create(index=index_name, body=mapping)\n",
    "\n",
    "# Lecture du fichier CSV et correction des champs vides\n",
    "with open(\"../data/avis_clients.csv\", encoding=\"utf-8\") as f:\n",
    "    reader = csv.DictReader(f)\n",
    "    documents = []\n",
    "    for idx, row in enumerate(reader):\n",
    "        if \"\" in row:\n",
    "            row[\"document_id\"] = str(idx)  # Ajout de l'ID du document\n",
    "            for key in list(row.keys()):\n",
    "                if key == \"\":\n",
    "                    row.pop(key)  # Suppression des champs avec des clés vides\n",
    "        documents.append(row)\n",
    "\n",
    "# Insérer les documents en vrac dans Elasticsearch\n",
    "if documents:\n",
    "    try:\n",
    "        response = helpers.bulk(es, documents, index=index_name)\n",
    "        print(\"Documents insérés avec succès :\", response)\n",
    "    except helpers.BulkIndexError as e:\n",
    "        print(\"Erreur lors de l'insertion des documents :\")\n",
    "        for err in e.errors:\n",
    "            print(\"Erreur :\", err)\n",
    "\n",
    "# Vérification des documents insérés\n",
    "result = es.search(index=index_name, size=5)  # Récupère les 5 premiers documents\n",
    "\n",
    "# Afficher les résultats\n",
    "for hit in result[\"hits\"][\"hits\"]:\n",
    "    print(hit[\"_source\"])\n"
   ]
  },
  {
   "cell_type": "code",
   "execution_count": 65,
   "metadata": {},
   "outputs": [],
   "source": [
    "response = es.search(index=\"review3\")\n",
    "# Récupération du template\n",
    "template = es.indices.get_mapping()"
   ]
  },
  {
   "cell_type": "code",
   "execution_count": 66,
   "metadata": {},
   "outputs": [
    {
     "name": "stdout",
     "output_type": "stream",
     "text": [
      "{'Company': 'Younited Credit', 'Customer': 'M françois GUYOT', 'Number_review': '2', 'Language': 'FR', 'Title': 'SUPER SOCIETE DE CREDITS TRES REACTIVE…', 'Date_review': '2023-07-28 06:28:34', 'Reply': 'No Reply', 'Date_reply': '2023-07-28 06:28:34', 'Rating': '5', 'Status': 'Verified', 'Experience': 'SUPER SOCIETE DE CREDITS TRES REACTIVE…SUPER SOCIETE DE CREDITS TRES REACTIVE sans problêmes merci pour votre pret accorde avec le moins d administratif possible', 'Date_experience': '2023-07-20 00:00:00', 'document_id': '0'}\n",
      "{'Company': 'Younited Credit', 'Customer': 'Les parisiens', 'Number_review': '2', 'Language': 'FR', 'Title': 'Simple et efficace !', 'Date_review': '2023-07-28 17:28:34', 'Reply': 'No Reply', 'Date_reply': '2023-07-28 17:28:34', 'Rating': '5', 'Status': 'Verified', 'Experience': 'Simple et efficace !', 'Date_experience': '2023-07-19 00:00:00', 'document_id': '1'}\n",
      "{'Company': 'Younited Credit', 'Customer': 'STEPHANIE RENOUX', 'Number_review': '3', 'Language': 'FR', 'Title': 'Simple rapide et efficace !!', 'Date_review': '2023-07-21 00:00:00', 'Reply': 'Bonjour,Nous vous remercions d’avoir pris le temps de nous laisser un message et sommes ravis de lire que vous êtes pleinement satisfait de votre expérience Younited.Nous vous remercions une nouvelle fois pour votre confiance.Excellente journée,Alexandra', 'Date_reply': '2023-07-24 06:28:42', 'Rating': '5', 'Status': 'Verified', 'Experience': 'Simple rapide et efficace !!', 'Date_experience': '2023-07-11 00:00:00', 'document_id': '2'}\n",
      "{'Company': 'Younited Credit', 'Customer': 'VERONIQUE', 'Number_review': '1', 'Language': 'FR', 'Title': 'TOP ++', 'Date_review': '2023-07-25 06:28:34', 'Reply': 'Bonjour,Nous vous remercions d’avoir pris le temps de nous laisser un message et sommes ravis de lire que vous êtes pleinement satisfait de votre expérience Younited.Nous vous remercions une nouvelle fois pour votre confiance.Excellente journée,Alexandra', 'Date_reply': '2023-07-26 06:28:42', 'Rating': '5', 'Status': 'Verified', 'Experience': \"TOP ++Efficacité et rapidité d'instruction TopJe recommande\", 'Date_experience': '2023-07-19 00:00:00', 'document_id': '3'}\n",
      "{'Company': 'Younited Credit', 'Customer': 'Sall', 'Number_review': '3', 'Language': 'FR', 'Title': 'Procedure top', 'Date_review': '2023-05-30 00:00:00', 'Reply': \"Bonjour,\\xa0Nous vous remercions pour votre commentaire et sommes navrés de lire que vous n'êtes pas pleinement satisfait de votre expérience Younited.Le taux d’intérêt dépend du montant emprunté, de la durée, et de votre situation personnelle que vous avez renseigné lors de la simulation de votre demande crédit.Chez Younited, nous nous efforçons de proposer des financements à des taux compétitifs afin de pouvoir accompagner tous nos clients dans leurs projets.\\xa0Merci d’avoir pris le temps de nous faire un retour sur votre expérience auprès de Younited.Excellente journée,Tracy\", 'Date_reply': '2023-05-31 00:00:00', 'Rating': '4', 'Status': 'Verified', 'Experience': 'Procedure topProcedure top, simple et rapide.Tt est nickel. A part les interets qui sont élevés', 'Date_experience': '2023-05-21 00:00:00', 'document_id': '4'}\n",
      "{'Company': 'Younited Credit', 'Customer': 'Soso ', 'Number_review': '2', 'Language': 'FR', 'Title': 'Younited une procédure simple', 'Date_review': '2023-02-25 00:00:00', 'Reply': 'Bonjour,Nous vous remercions pour ce commentaire\\u202fpositif. En espérant que vous puissiez recommander Younited auprès de votre entourage.Excellente journée,Amori', 'Date_reply': '2023-02-27 00:00:00', 'Rating': '5', 'Status': 'Verified', 'Experience': 'Younited une procédure simpleYounited permet une alternative qui facilite la vie. La procédure est simple et plutôt rapide.', 'Date_experience': '2023-02-19 00:00:00', 'document_id': '5'}\n",
      "{'Company': 'Younited Credit', 'Customer': 'Duval', 'Number_review': '9', 'Language': 'FR', 'Title': 'Rapide efficace simple un pur bonheur…', 'Date_review': '2022-11-28 00:00:00', 'Reply': 'Bonjour,Merci d’avoir pris le temps de nous faire un retour sur votre expérience auprès de Younited, et sommes ravis de lire que celle-ci s’est bien passée.Nous nous efforçons d’offrir à nos clients un crédit aussi juste, simple et rapide que possible et sommes heureux d’avoir pu vous en faire bénéficier.Excellente journée,Audrey', 'Date_reply': '2022-11-30 00:00:00', 'Rating': '5', 'Status': 'Verified', 'Experience': 'Rapide efficace simple un pur bonheur…Rapide efficace simple un pur bonheur les fonds à disposition à la date prévue respect du beau boulot', 'Date_experience': '2022-11-28 00:00:00', 'document_id': '6'}\n",
      "{'Company': 'Younited Credit', 'Customer': 'Michel Lafrechoux', 'Number_review': '5', 'Language': 'FR', 'Title': 'Entire satisfaction', 'Date_review': '2022-11-23 00:00:00', 'Reply': \"Hello,Thank you for taking the time to leave us a message.We invite you to leave a review on your country's Trustpilot pageExcellent day,Audrey\", 'Date_reply': '2022-11-30 00:00:00', 'Rating': '5', 'Status': 'Verified', 'Experience': 'Entire satisfactionYounited credit gave me the possibility to get a loan relatively rapid.All the people via phone were very efficient and disponible.I have a real good feeling from YounitedThanks', 'Date_experience': '2022-11-18 00:00:00', 'document_id': '7'}\n",
      "{'Company': 'Younited Credit', 'Customer': 'Lazarus Jamison', 'Number_review': '1', 'Language': 'MW', 'Title': 'I am yet to confirm the efficiency and…', 'Date_review': '2023-05-06 00:00:00', 'Reply': 'Bonjour,Nous vous remercions d’avoir pris le temps de nous laisser un message et sommes ravis de lire que vous êtes pleinement satisfait de votre expérience Younited.Nous vous remercions une nouvelle fois pour votre confiance.Excellente journée,Alexandra', 'Date_reply': '2023-05-10 00:00:00', 'Rating': '5', 'Status': 'Verified', 'Experience': 'I am yet to confirm the efficiency and…I am yet to confirm the efficiency and the effectiveness of the Younite professionalism in processing loans. i have just applied recently.', 'Date_experience': '2023-04-06 00:00:00', 'document_id': '8'}\n",
      "{'Company': 'Younited Credit', 'Customer': 'Jean-Paul', 'Number_review': '1', 'Language': 'FR', 'Title': 'Tout en simple  et facile', 'Date_review': '2023-07-16 00:00:00', 'Reply': 'Bonjour,Nous vous remercions d’avoir pris le temps de nous laisser un message et sommes ravis de lire que vous êtes pleinement satisfait de votre expérience Younited.Nous vous remercions une nouvelle fois pour votre confiance.Excellente journée,Diane', 'Date_reply': '2023-07-17 00:00:00', 'Rating': '4', 'Status': 'Verified', 'Experience': 'Tout en simple  et facile', 'Date_experience': '2023-07-10 00:00:00', 'document_id': '9'}\n"
     ]
    },
    {
     "name": "stderr",
     "output_type": "stream",
     "text": [
      "C:\\Users\\yaya-\\AppData\\Local\\Temp/ipykernel_25100/2743372402.py:9: DeprecationWarning: The 'body' parameter is deprecated and will be removed in a future version. Instead use individual parameters.\n",
      "  result = es.search(index=\"review3\", body=query)\n"
     ]
    }
   ],
   "source": [
    "# recherche de tous les documents \n",
    "query = {\n",
    "    \"query\": {\n",
    "        \"match_all\": {}\n",
    "    }\n",
    "}\n",
    "\n",
    "# Exécuter la requête\n",
    "result = es.search(index=\"review3\", body=query)\n",
    "\n",
    "# Afficher les résultats\n",
    "for hit in result[\"hits\"][\"hits\"]:\n",
    "    print(hit[\"_source\"])\n"
   ]
  },
  {
   "cell_type": "code",
   "execution_count": 67,
   "metadata": {},
   "outputs": [
    {
     "name": "stdout",
     "output_type": "stream",
     "text": [
      "Mot clé positif : Simple et rapide - Nombre d'occurrences : 52\n",
      "Mot clé positif : Simple et efficace - Nombre d'occurrences : 31\n",
      "Mot clé positif : Excellent service - Nombre d'occurrences : 27\n",
      "Mot clé positif : Très bon service - Nombre d'occurrences : 26\n",
      "Mot clé positif : Rapide et simple - Nombre d'occurrences : 20\n"
     ]
    },
    {
     "name": "stderr",
     "output_type": "stream",
     "text": [
      "C:\\Users\\yaya-\\AppData\\Local\\Temp/ipykernel_25100/1432911214.py:33: DeprecationWarning: The 'body' parameter is deprecated and will be removed in a future version. Instead use individual parameters.\n",
      "  result = es.search(index=index_name, body = query)\n"
     ]
    }
   ],
   "source": [
    "# Requête pour obtenir les 5 mots clés positifs\n",
    "query = {\n",
    "    \"query\": {\n",
    "        \"match_all\": {}\n",
    "    },\n",
    "    \"aggs\": {\n",
    "        \"positive_words\": {\n",
    "            \"terms\": {\n",
    "                \"field\": \"Experience\",\n",
    "                \"size\": 5,\n",
    "                \"min_doc_count\": 5\n",
    "            },\n",
    "            \"aggs\": {\n",
    "                \"rating_filter\": {\n",
    "                    \"filter\": {\n",
    "                        \"range\": {\n",
    "                            \"Rating\": {\n",
    "                                \"gte\": 5,\n",
    "                                \"lte\": 5\n",
    "                            }\n",
    "                        }\n",
    "                    }\n",
    "                }\n",
    "            }\n",
    "        }\n",
    "    }\n",
    "}\n",
    "\n",
    "# Exécution de la requête\n",
    "\n",
    "\n",
    "# Exécution de la requête\n",
    "result = es.search(index=index_name, body = query)\n",
    "\n",
    "# Récupération des résultats\n",
    "positive_words = result[\"aggregations\"][\"positive_words\"][\"buckets\"]\n",
    "\n",
    "for positive_word in positive_words:\n",
    "    print(f\"Mot clé positif : {positive_word['key']} - Nombre d'occurrences : {positive_word['doc_count']}\")\n"
   ]
  },
  {
   "cell_type": "code",
   "execution_count": 68,
   "metadata": {},
   "outputs": [
    {
     "name": "stdout",
     "output_type": "stream",
     "text": [
      "Mot clé négatif : Simple et rapide - Nombre d'occurrences : 57\n",
      "Mot clé négatif : Simple - Nombre d'occurrences : 48\n",
      "Mot clé négatif : Simple et efficace - Nombre d'occurrences : 39\n",
      "Mot clé négatif : Excellent - Nombre d'occurrences : 37\n",
      "Mot clé négatif : Rapide - Nombre d'occurrences : 35\n",
      "Mot clé négatif : Super - Nombre d'occurrences : 33\n",
      "Mot clé négatif : Excellent service - Nombre d'occurrences : 29\n",
      "Mot clé négatif : Très bon service - Nombre d'occurrences : 27\n",
      "Mot clé négatif : Parfait - Nombre d'occurrences : 25\n",
      "Mot clé négatif : Rapide et simple - Nombre d'occurrences : 24\n"
     ]
    },
    {
     "name": "stderr",
     "output_type": "stream",
     "text": [
      "C:\\Users\\yaya-\\AppData\\Local\\Temp/ipykernel_25100/3111089838.py:28: DeprecationWarning: The 'body' parameter is deprecated and will be removed in a future version. Instead use individual parameters.\n",
      "  result = es.search(index=index_name, body=query)\n"
     ]
    }
   ],
   "source": [
    "query = {\n",
    "    \"query\": {\n",
    "        \"match_all\": {}\n",
    "    },\n",
    "    \"aggs\": {\n",
    "        \"negative_words\": {\n",
    "            \"terms\": {\n",
    "                \"field\": \"Title\",\n",
    "                \"size\": 10,\n",
    "                \"min_doc_count\": 5\n",
    "            },\n",
    "            \"aggs\": {\n",
    "                \"rating_filter\": {\n",
    "                    \"filter\": {\n",
    "                        \"range\": {\n",
    "                            \"Rating\": {\n",
    "                                \"gte\": 1,\n",
    "                                \"lte\": 1\n",
    "                            }\n",
    "                        }\n",
    "                    }\n",
    "                }\n",
    "            }\n",
    "        }\n",
    "    }\n",
    "}\n",
    "# Exécution de la requête\n",
    "result = es.search(index=index_name, body=query)\n",
    "\n",
    "# Récupération des résultats\n",
    "negative_words = result[\"aggregations\"][\"negative_words\"][\"buckets\"]\n",
    "\n",
    "# Affichage des résultats\n",
    "for negative_word in negative_words:\n",
    "    print(f\"Mot clé négatif : {negative_word['key']} - Nombre d'occurrences : {negative_word['doc_count']}\")"
   ]
  },
  {
   "cell_type": "markdown",
   "metadata": {},
   "source": [
    "# Importer Elasticsearch-py pour la gestion de l'API Elasticsearch\n",
    "from elasticsearch import Elasticsearch\n",
    "\n",
    "# Se connecter à Elasticsearch\n",
    "es = Elasticsearch(hosts=\"http://localhost:9200\")\n",
    "\n",
    "# Définir un normalizer de minuscules\n",
    "lowercase_normalizer = {\n",
    "    \"settings\": {\n",
    "        \"analysis\": {\n",
    "            \"normalizer\": {\n",
    "                \"lowercase_normalizer\": {\n",
    "                    \"type\": \"custom\",\n",
    "                    \"filter\": [\"lowercase\"]\n",
    "                }\n",
    "            }\n",
    "        }\n",
    "    }\n",
    "}\n",
    "\n",
    "# Appliquer le normalizer de minuscules à un champ\n",
    "mapping = {\n",
    "    \"mappings\": {\n",
    "        \"properties\": {\n",
    "            \"Experience\": {\n",
    "                \"type\": \"text\",\n",
    "                \"normalizer\": \"lowercase_normalizer\"\n",
    "            }\n",
    "        }\n",
    "    }\n",
    "}\n",
    "\n",
    "# Créer l'index avec le mapping et le normalizer\n",
    "es.indices.create(index=\"index_name\", body={\"settings\": lowercase_normalizer})\n",
    "es.indices.put_mapping(index=\"index_name\", body=mapping)\n"
   ]
  },
  {
   "cell_type": "markdown",
   "metadata": {},
   "source": [
    "query = {\n",
    "    \"query\": {\n",
    "        \"match_all\": {}\n",
    "    },\n",
    "    \"aggs\": {\n",
    "        \"mots_negatifs\": {\n",
    "            \"terms\": {\n",
    "                \"field\": \"Experience\",\n",
    "                \"size\": 10000,\n",
    "                \"include\": [\n",
    "                    \"mauvais\",\n",
    "                    \"terrible\",\n",
    "                    \"déçu\",\n",
    "                    \"pauvre\",\n",
    "                    \"insatisfait\",\n",
    "                    \"bad\",\n",
    "                    \"avoid\",\n",
    "                    \"arnaque\",\n",
    "                    \"disaster\",\n",
    "                    \"worse\",\n",
    "                    \"incompétent\"\n",
    "                ],\n",
    "                \"analyzer\": \"lowercase_analyzer\"\n",
    "            }\n",
    "        }\n",
    "    }\n",
    "}\n",
    "\n",
    "result = es.search(index=index_name, body=query)\n",
    "\n",
    "# Récupération des résultats\n",
    "mots_negatifs = result[\"aggregations\"][\"mots_negatifs\"][\"buckets\"]\n",
    "\n",
    "# Affichage des résultats\n",
    "for mot_negatif in mots_negatifs:\n",
    "    print(f\"Mot négatif : {mot_negatif['key']} - Nombre d'occurrences : {mot_negatif['doc_count']}\")\n"
   ]
  },
  {
   "cell_type": "code",
   "execution_count": 69,
   "metadata": {},
   "outputs": [
    {
     "name": "stdout",
     "output_type": "stream",
     "text": [
      "Nombre total de valeurs de rating: 2394\n",
      "Statistiques de rating:\n",
      "    Minimum: 1.0\n",
      "    Maximum: 5.0\n",
      "    Moyenne: 4.7180451127819545\n",
      "    Somme: 11295.0\n",
      "    Écart-type: 0.7912112398310651\n"
     ]
    },
    {
     "name": "stderr",
     "output_type": "stream",
     "text": [
      "C:\\Users\\yaya-\\AppData\\Local\\Temp/ipykernel_25100/2272750476.py:24: DeprecationWarning: The 'body' parameter is deprecated and will be removed in a future version. Instead use individual parameters.\n",
      "  result = es.search(index=\"review3\", body=query)\n"
     ]
    }
   ],
   "source": [
    "# Requête d'agrégation pour obtenir des statistiques sur le champ \"Rating\"\n",
    "query = {\n",
    "    \"size\": 0,\n",
    "    \"aggs\": {\n",
    "        \"value_count\": {\n",
    "            \"value_count\": {\n",
    "                \"field\": \"Rating\"\n",
    "            }\n",
    "        },\n",
    "        \"rating_stats\": {\n",
    "            \"stats\": {\n",
    "                \"field\": \"Rating\"\n",
    "            }\n",
    "        },\n",
    "        \"extended_ratings_stats\": {\n",
    "            \"extended_stats\": {\n",
    "                \"field\": \"Rating\"\n",
    "            }\n",
    "        }\n",
    "    }\n",
    "}\n",
    "\n",
    "# Exécuter la requête\n",
    "result = es.search(index=\"review3\", body=query)\n",
    "\n",
    "# Afficher les résultats de l'agrégation\n",
    "aggregations = result.get(\"aggregations\", {})\n",
    "value_count = aggregations.get(\"value_count\", {})\n",
    "rating_stats = aggregations.get(\"rating_stats\", {})\n",
    "extended_ratings_stats = aggregations.get(\"extended_ratings_stats\", {})\n",
    "\n",
    "print(\"Nombre total de valeurs de rating:\", value_count.get(\"value\", 0))\n",
    "print(\"Statistiques de rating:\")\n",
    "print(\"    Minimum:\", rating_stats.get(\"min\", 0))\n",
    "print(\"    Maximum:\", rating_stats.get(\"max\", 0))\n",
    "print(\"    Moyenne:\", rating_stats.get(\"avg\", 0))\n",
    "print(\"    Somme:\", rating_stats.get(\"sum\", 0))\n",
    "print(\"    Écart-type:\", extended_ratings_stats.get(\"std_deviation\", 0))"
   ]
  },
  {
   "cell_type": "code",
   "execution_count": 70,
   "metadata": {},
   "outputs": [
    {
     "name": "stdout",
     "output_type": "stream",
     "text": [
      "Entreprise : Younited Credit, Nombre de commentaires négatifs : 6\n",
      "Entreprise : Orange Bank, Nombre de commentaires négatifs : 3\n",
      "Entreprise : Cofidis, Nombre de commentaires négatifs : 1\n"
     ]
    },
    {
     "name": "stderr",
     "output_type": "stream",
     "text": [
      "C:\\Users\\yaya-\\AppData\\Local\\Temp/ipykernel_25100/974567915.py:16: DeprecationWarning: The 'body' parameter is deprecated and will be removed in a future version. Instead use individual parameters.\n",
      "  result = es.search(index=index_name, body=query)\n"
     ]
    }
   ],
   "source": [
    "# Liste des entreprises avec le plus de commentaires négatifs\n",
    "query = {\n",
    "    \"query\": {\n",
    "        \"match_all\": {}\n",
    "    },\n",
    "    \"sort\": [\n",
    "        {\n",
    "            \"Rating\": {\n",
    "                \"order\": \"asc\"  # Tri ascendant (du plus bas au plus haut)\n",
    "            }\n",
    "        }\n",
    "    ]\n",
    "}\n",
    "\n",
    "# Exécution de la requête pour récupérer les commentaires triés par note\n",
    "result = es.search(index=index_name, body=query)\n",
    "\n",
    "# Analyse des commentaires triés pour identifier les entreprises avec le plus de commentaires négatifs\n",
    "from collections import Counter\n",
    "\n",
    "negative_reviews = []\n",
    "for hit in result[\"hits\"][\"hits\"]:\n",
    "    rating = int(hit[\"_source\"][\"Rating\"])  # Convertir la note en entier\n",
    "    if rating < 3:  # Supposons que 1 à 2 sont considérés comme des notes négatives\n",
    "        negative_reviews.append(hit[\"_source\"][\"Company\"])\n",
    "\n",
    "# Utilisation de Counter pour compter le nombre de commentaires négatifs par entreprise\n",
    "company_count = Counter(negative_reviews)\n",
    "\n",
    "# Triez les entreprises par le nombre de commentaires négatifs (du plus au moins)\n",
    "sorted_companies = sorted(company_count.items(), key=lambda x: x[1], reverse=True)\n",
    "\n",
    "# Afficher les entreprises avec le plus de commentaires négatifs\n",
    "for company, count in sorted_companies[:6]:  # Affiche les 5 premières entreprises avec le plus de commentaires négatifs\n",
    "    print(f\"Entreprise : {company}, Nombre de commentaires négatifs : {count}\")\n"
   ]
  },
  {
   "cell_type": "code",
   "execution_count": 71,
   "metadata": {},
   "outputs": [
    {
     "name": "stderr",
     "output_type": "stream",
     "text": [
      "C:\\Users\\yaya-\\AppData\\Local\\Temp/ipykernel_25100/2866378900.py:7: DeprecationWarning: The 'body' parameter is deprecated and will be removed in a future version. Instead use individual parameters.\n",
      "  result = es.search(index=index_name,\n"
     ]
    },
    {
     "name": "stdout",
     "output_type": "stream",
     "text": [
      "Entreprise : Younited Credit - Nombre de No Reply : 820\n",
      "Entreprise : Boursorama Banque - Nombre de No Reply : 762\n",
      "Entreprise : Orange Bank - Nombre de No Reply : 176\n",
      "Entreprise : Floabank - Nombre de No Reply : 82\n",
      "Entreprise : Anytime - Nombre de No Reply : 48\n",
      "Entreprise : Cofidis - Nombre de No Reply : 2\n"
     ]
    }
   ],
   "source": [
    "es = Elasticsearch(hosts=\"http://localhost:9200\")\n",
    "\n",
    "# Index des avis clients\n",
    "index_name = \"review3\"\n",
    "\n",
    "# Exécution de la requête\n",
    "result = es.search(index=index_name, \n",
    "body={\n",
    "    \"query\": {\n",
    "        \"match\": {\n",
    "            \"Reply\": {\n",
    "                \"query\": \"No Reply\"\n",
    "            }\n",
    "        }\n",
    "    },\n",
    "    \"aggs\": {\n",
    "        \"companies\": {\n",
    "            \"terms\": {\n",
    "                \"field\": \"Company\",\n",
    "                \"size\": 10\n",
    "            }\n",
    "        }\n",
    "    }\n",
    "})\n",
    "\n",
    "# Récupération des résultats\n",
    "companies = result[\"aggregations\"][\"companies\"][\"buckets\"]\n",
    "\n",
    "# Affichage des résultats\n",
    "for company in companies:\n",
    "    print(f\"Entreprise : {company['key']} - Nombre de No Reply : {company['doc_count']}\")"
   ]
  },
  {
   "cell_type": "code",
   "execution_count": 72,
   "metadata": {},
   "outputs": [
    {
     "name": "stdout",
     "output_type": "stream",
     "text": [
      "Entreprise : Floabank - Note moyenne : 4.49\n",
      "Entreprise : Orange Bank - Note moyenne : 4.62\n",
      "Entreprise : Boursorama Banque - Note moyenne : 4.67\n",
      "Entreprise : Anytime - Note moyenne : 4.73\n",
      "Entreprise : Younited Credit - Note moyenne : 4.82\n",
      "Entreprise : Cofidis - Note moyenne : 4.86\n"
     ]
    },
    {
     "name": "stderr",
     "output_type": "stream",
     "text": [
      "C:\\Users\\yaya-\\AppData\\Local\\Temp/ipykernel_25100/4117333319.py:19: DeprecationWarning: The 'body' parameter is deprecated and will be removed in a future version. Instead use individual parameters.\n",
      "  result = es.search(index=index_name, body=query)\n"
     ]
    }
   ],
   "source": [
    "# Exécution de la requête pour obtenir le classement des entreprises selon leur note moyenne\n",
    "query = {\n",
    "    \"aggs\": {\n",
    "        \"companies\": {\n",
    "            \"terms\": {\n",
    "                \"field\": \"Company\"\n",
    "            },\n",
    "            \"aggs\": {\n",
    "                \"average_rating\": {\n",
    "                    \"avg\": {\n",
    "                        \"field\": \"Rating\"\n",
    "                    }\n",
    "                }\n",
    "            }\n",
    "        }\n",
    "    }\n",
    "}\n",
    "\n",
    "result = es.search(index=index_name, body=query)\n",
    "\n",
    "# Récupération des résultats\n",
    "companies = result[\"aggregations\"][\"companies\"][\"buckets\"]\n",
    "\n",
    "# Tri des entreprises par leur note moyenne\n",
    "companies.sort(key=lambda company: company[\"average_rating\"][\"value\"], reverse=False)\n",
    "\n",
    "# Affichage des résultats\n",
    "for company in companies:\n",
    "    average_ratings = round(company['average_rating']['value'], 2)\n",
    "    print(f\"Entreprise : {company['key']} - Note moyenne : {average_ratings}\")\n"
   ]
  },
  {
   "cell_type": "code",
   "execution_count": 73,
   "metadata": {},
   "outputs": [
    {
     "name": "stdout",
     "output_type": "stream",
     "text": [
      "Status : Invited - Nombre de commentateurs : 3632\n",
      "Status : Verified - Nombre de commentateurs : 1054\n",
      "Status : Redirected - Nombre de commentateurs : 102\n"
     ]
    },
    {
     "name": "stderr",
     "output_type": "stream",
     "text": [
      "C:\\Users\\yaya-\\AppData\\Local\\Temp/ipykernel_25100/3781268496.py:12: DeprecationWarning: The 'body' parameter is deprecated and will be removed in a future version. Instead use individual parameters.\n",
      "  result = es.search(index=index_name, body=query)\n"
     ]
    }
   ],
   "source": [
    "# Exécution de la requête pour obtenir le groupe selon leur statut\n",
    "query = {\n",
    "    \"aggs\": {\n",
    "        \"statuses\": {\n",
    "            \"terms\": {\n",
    "                \"field\": \"Status\"\n",
    "            }\n",
    "        }\n",
    "    }\n",
    "}\n",
    "\n",
    "result = es.search(index=index_name, body=query)\n",
    "\n",
    "# Récupération des résultats\n",
    "statuses = result[\"aggregations\"][\"statuses\"][\"buckets\"]\n",
    "\n",
    "# Affichage des résultats\n",
    "for status in statuses:\n",
    "    print(f\"Status : {status['key']} - Nombre de commentateurs : {status['doc_count']}\")\n"
   ]
  },
  {
   "cell_type": "code",
   "execution_count": 74,
   "metadata": {},
   "outputs": [
    {
     "name": "stdout",
     "output_type": "stream",
     "text": [
      "Entreprise : Younited Credit - Nombre de No Reply : 820 - Taux de No Reply : 43.39%\n",
      "Entreprise : Boursorama Banque - Nombre de No Reply : 762 - Taux de No Reply : 40.32%\n",
      "Entreprise : Orange Bank - Nombre de No Reply : 176 - Taux de No Reply : 9.31%\n",
      "Entreprise : Floabank - Nombre de No Reply : 82 - Taux de No Reply : 4.34%\n",
      "Entreprise : Anytime - Nombre de No Reply : 48 - Taux de No Reply : 2.54%\n",
      "Entreprise : Cofidis - Nombre de No Reply : 2 - Taux de No Reply : 0.11%\n"
     ]
    },
    {
     "name": "stderr",
     "output_type": "stream",
     "text": [
      "C:\\Users\\yaya-\\AppData\\Local\\Temp/ipykernel_25100/3237135795.py:29: DeprecationWarning: The 'body' parameter is deprecated and will be removed in a future version. Instead use individual parameters.\n",
      "  result = es.search(index=index_name, body=query)\n"
     ]
    }
   ],
   "source": [
    "# Exécution de la requête\n",
    "query = {\n",
    "    \"query\": {\n",
    "        \"match\": {\n",
    "            \"Reply\": \"No Reply\"\n",
    "        }\n",
    "    },\n",
    "    \"aggs\": {\n",
    "        \"total_no_reply\": {\n",
    "            \"value_count\": {\n",
    "                \"field\": \"Reply\"\n",
    "            }\n",
    "        },\n",
    "        \"companies\": {\n",
    "            \"terms\": {\n",
    "                \"field\": \"Company\"\n",
    "            },\n",
    "            \"aggs\": {\n",
    "                \"number_of_no_reply\": {\n",
    "                    \"value_count\": {\n",
    "                        \"field\": \"Reply\"\n",
    "                    }\n",
    "                }\n",
    "            }\n",
    "        }\n",
    "    }\n",
    "}\n",
    "\n",
    "result = es.search(index=index_name, body=query)\n",
    "# Récupération des résultats\n",
    "total_no_reply = result[\"aggregations\"][\"total_no_reply\"][\"value\"]\n",
    "companies = result[\"aggregations\"][\"companies\"][\"buckets\"]\n",
    "\n",
    "# Affichage des résultats\n",
    "for company in companies:\n",
    "    number_of_no_reply = company[\"number_of_no_reply\"][\"value\"]\n",
    "    percentage = (number_of_no_reply / total_no_reply) * 100\n",
    "    print(f\"Entreprise : {company['key']} - Nombre de No Reply : {number_of_no_reply} - Taux de No Reply : {percentage:.2f}%\")\n"
   ]
  }
 ],
 "metadata": {
  "kernelspec": {
   "display_name": "Python 3",
   "language": "python",
   "name": "python3"
  },
  "language_info": {
   "codemirror_mode": {
    "name": "ipython",
    "version": 3
   },
   "file_extension": ".py",
   "mimetype": "text/x-python",
   "name": "python",
   "nbconvert_exporter": "python",
   "pygments_lexer": "ipython3",
   "version": "3.9.7"
  }
 },
 "nbformat": 4,
 "nbformat_minor": 2
}
